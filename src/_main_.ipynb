{
 "cells": [
  {
   "cell_type": "code",
   "execution_count": 1,
   "metadata": {},
   "outputs": [],
   "source": [
    "import numpy as np\n",
    "import cv2\n",
    "\n",
    "from feature_tracker import FeatureTrackerTypes, FeatureTracker, FeatureTrackingResult\n",
    "from feature_orb2D import OrbFeature2D\n",
    "from feature_matcher import feature_matcher_factory, FeatureMatcherTypes\n",
    "from parameters import Parameters \n",
    "import random\n",
    "import tracemalloc\n",
    "import linecache\n",
    "from visual_odometry import ImageRecievedState, VisualOdometry\n",
    "from camera import KinectCamera\n",
    "from utils import compute_euler_angle"
   ]
  },
  {
   "cell_type": "code",
   "execution_count": 2,
   "metadata": {},
   "outputs": [],
   "source": [
    "import time"
   ]
  },
  {
   "cell_type": "code",
   "execution_count": 3,
   "metadata": {},
   "outputs": [
    {
     "name": "stdout",
     "output_type": "stream",
     "text": [
      "Using Orb Feature 2D\n"
     ]
    }
   ],
   "source": [
    "MinNumFeatureDefault = Parameters.MinNumFeatureDefault\n",
    "RatioTest = Parameters.FeatureMatchRatioTest\n",
    "t = np.load(\"100/0/translations.npy\")\n",
    "r = np.load(\"100/0/rotations.npy\")\n",
    "\n",
    "width  = 640\n",
    "height = 480\n",
    "fx     = 554.254691191187\n",
    "fy     = 554.254691191187\n",
    "cx     = 320.5\n",
    "cy     = 240.5\n",
    "D      = [0.0, 0.0, 0.0, 0.0, 0.0] \n",
    "\n",
    "cam = KinectCamera(width, height, fx, fy, cx, cy, D)\n",
    "\n",
    "feature_tracker = FeatureTracker(num_features=MinNumFeatureDefault, \n",
    "                       num_levels = 8,  \n",
    "                       scale_factor = 1.2,   \n",
    "                       match_ratio_test = RatioTest, \n",
    "                       tracker_type = FeatureTrackerTypes.DES_BF)"
   ]
  },
  {
   "cell_type": "code",
   "execution_count": 4,
   "metadata": {},
   "outputs": [],
   "source": [
    "vo = VisualOdometry(cam, feature_tracker, t, r)"
   ]
  },
  {
   "cell_type": "code",
   "execution_count": 30,
   "metadata": {},
   "outputs": [
    {
     "name": "stdout",
     "output_type": "stream",
     "text": [
      "processing first frame\n"
     ]
    }
   ],
   "source": [
    "path = \"100/image_85.jpg\"\n",
    "img = cv2.imread(path)\n",
    "vo.trackImage(img)"
   ]
  },
  {
   "cell_type": "code",
   "execution_count": null,
   "metadata": {},
   "outputs": [],
   "source": [
    "path = \"100/image_86.jpg\"\n",
    "img = cv2.imread(path)\n",
    "vo.trackImage(img)"
   ]
  },
  {
   "cell_type": "code",
   "execution_count": 5,
   "metadata": {},
   "outputs": [
    {
     "name": "stdout",
     "output_type": "stream",
     "text": [
      "0\n",
      "processing first frame\n",
      "1\n",
      "processing second frame\n",
      "# matched points:  523 , # inliers:  259\n",
      "2\n",
      "processing second frame\n",
      "# matched points:  493 , # inliers:  272\n",
      "3\n",
      "processing second frame\n",
      "# matched points:  522 , # inliers:  326\n",
      "4\n",
      "processing second frame\n",
      "# matched points:  496 , # inliers:  287\n",
      "5\n",
      "processing second frame\n",
      "# matched points:  486 , # inliers:  208\n",
      "6\n",
      "processing second frame\n",
      "# matched points:  409 , # inliers:  146\n",
      "7\n",
      "processing second frame\n",
      "# matched points:  381 , # inliers:  149\n",
      "8\n",
      "processing second frame\n",
      "# matched points:  365 , # inliers:  159\n",
      "9\n",
      "processing second frame\n",
      "# matched points:  348 , # inliers:  176\n",
      "10\n",
      "processing second frame\n",
      "# matched points:  325 , # inliers:  127\n",
      "11\n",
      "processing second frame\n",
      "# matched points:  336 , # inliers:  118\n",
      "12\n",
      "processing second frame\n",
      "# matched points:  279 , # inliers:  92\n",
      "13\n",
      "processing second frame\n",
      "# matched points:  304 , # inliers:  113\n",
      "14\n",
      "processing second frame\n",
      "# matched points:  279 , # inliers:  114\n",
      "15\n",
      "processing second frame\n",
      "# matched points:  348 , # inliers:  122\n",
      "16\n",
      "processing second frame\n",
      "# matched points:  315 , # inliers:  113\n",
      "17\n",
      "processing second frame\n",
      "# matched points:  342 , # inliers:  117\n",
      "18\n",
      "processing second frame\n",
      "# matched points:  361 , # inliers:  124\n",
      "19\n",
      "processing second frame\n",
      "# matched points:  462 , # inliers:  248\n",
      "20\n",
      "processing second frame\n",
      "# matched points:  272 , # inliers:  93\n",
      "21\n",
      "processing second frame\n",
      "# matched points:  136 , # inliers:  44\n",
      "22\n",
      "processing second frame\n",
      "# matched points:  72 , # inliers:  23\n",
      "23\n",
      "processing second frame\n",
      "# matched points:  13 , # inliers:  10\n",
      "24\n",
      "processing second frame\n",
      "# matched points:  29 , # inliers:  15\n",
      "25\n",
      "processing second frame\n",
      "# matched points:  128 , # inliers:  52\n",
      "26\n",
      "processing second frame\n",
      "# matched points:  241 , # inliers:  124\n",
      "27\n",
      "processing second frame\n",
      "# matched points:  325 , # inliers:  219\n",
      "28\n",
      "processing second frame\n",
      "# matched points:  308 , # inliers:  200\n",
      "29\n",
      "processing second frame\n",
      "# matched points:  201 , # inliers:  80\n",
      "30\n",
      "processing second frame\n",
      "# matched points:  319 , # inliers:  295\n",
      "31\n",
      "processing second frame\n",
      "# matched points:  312 , # inliers:  221\n",
      "32\n",
      "processing second frame\n",
      "# matched points:  294 , # inliers:  197\n",
      "33\n",
      "processing second frame\n",
      "# matched points:  291 , # inliers:  209\n",
      "34\n",
      "processing second frame\n",
      "# matched points:  272 , # inliers:  185\n",
      "35\n",
      "processing second frame\n",
      "# matched points:  244 , # inliers:  166\n",
      "36\n",
      "processing second frame\n",
      "# matched points:  233 , # inliers:  127\n",
      "37\n",
      "processing second frame\n",
      "# matched points:  219 , # inliers:  126\n",
      "38\n",
      "processing second frame\n",
      "# matched points:  176 , # inliers:  72\n",
      "39\n",
      "processing second frame\n",
      "# matched points:  160 , # inliers:  70\n",
      "40\n",
      "processing second frame\n",
      "# matched points:  131 , # inliers:  65\n",
      "41\n",
      "processing second frame\n",
      "# matched points:  120 , # inliers:  52\n",
      "42\n",
      "processing second frame\n",
      "# matched points:  98 , # inliers:  41\n",
      "43\n",
      "processing second frame\n",
      "# matched points:  94 , # inliers:  36\n",
      "44\n",
      "processing second frame\n",
      "# matched points:  92 , # inliers:  44\n",
      "45\n",
      "processing second frame\n",
      "# matched points:  84 , # inliers:  36\n",
      "46\n",
      "processing second frame\n",
      "# matched points:  75 , # inliers:  31\n",
      "47\n",
      "processing second frame\n",
      "# matched points:  88 , # inliers:  50\n",
      "48\n",
      "processing second frame\n",
      "# matched points:  68 , # inliers:  25\n",
      "49\n",
      "processing second frame\n",
      "# matched points:  76 , # inliers:  26\n",
      "50\n",
      "processing second frame\n",
      "# matched points:  53 , # inliers:  21\n",
      "51\n",
      "processing second frame\n",
      "# matched points:  40 , # inliers:  15\n",
      "52\n",
      "processing second frame\n",
      "# matched points:  35 , # inliers:  18\n",
      "53\n",
      "processing second frame\n",
      "# matched points:  25 , # inliers:  11\n",
      "54\n",
      "processing second frame\n",
      "# matched points:  19 , # inliers:  11\n",
      "time elapsed:  11.890569686889648\n"
     ]
    }
   ],
   "source": [
    "\n",
    "start = time.time()\n",
    "for i in range(55):\n",
    "    print(i)\n",
    "    path = \"100/image_\"+str(i)+\".jpg\"\n",
    "    img = cv2.imread(path)\n",
    "    if img is not None:\n",
    "        vo.trackImage(img, i)\n",
    "    else: print(\"image is not read\")\n",
    "end = time.time()\n",
    "\n",
    "print(\"time elapsed: \", end-start)\n",
    "    "
   ]
  },
  {
   "cell_type": "code",
   "execution_count": 6,
   "metadata": {},
   "outputs": [],
   "source": [
    "p = vo.trans_est_ref"
   ]
  },
  {
   "cell_type": "code",
   "execution_count": 7,
   "metadata": {},
   "outputs": [],
   "source": [
    "p = np.reshape(p, (54,3))"
   ]
  },
  {
   "cell_type": "code",
   "execution_count": 8,
   "metadata": {},
   "outputs": [],
   "source": [
    "p=np.round(p,2)"
   ]
  },
  {
   "cell_type": "code",
   "execution_count": 29,
   "metadata": {},
   "outputs": [],
   "source": [
    "p=p/10"
   ]
  },
  {
   "cell_type": "code",
   "execution_count": 30,
   "metadata": {},
   "outputs": [],
   "source": [
    "t_xzy = []\n",
    "\n",
    "for i in range(len(t)):\n",
    "    t_xzy.append([t[i][0],t[i][2],t[i][1]])"
   ]
  },
  {
   "cell_type": "code",
   "execution_count": 31,
   "metadata": {},
   "outputs": [
    {
     "data": {
      "text/plain": [
       "array([[-1.38,  0.  ,  1.79],\n",
       "       [-1.38,  0.  ,  1.77],\n",
       "       [-1.38,  0.  ,  1.74],\n",
       "       [-1.39,  0.  ,  1.72],\n",
       "       [-1.39,  0.  ,  1.69],\n",
       "       [-1.39,  0.  ,  1.66],\n",
       "       [-1.4 ,  0.  ,  1.61],\n",
       "       [-1.4 ,  0.  ,  1.57],\n",
       "       [-1.41,  0.  ,  1.52],\n",
       "       [-1.42,  0.  ,  1.46],\n",
       "       [-1.42,  0.  ,  1.39],\n",
       "       [-1.43,  0.  ,  1.32],\n",
       "       [-1.44,  0.  ,  1.23],\n",
       "       [-1.45,  0.  ,  1.16],\n",
       "       [-1.46,  0.  ,  1.08],\n",
       "       [-1.47,  0.  ,  1.01],\n",
       "       [-1.48,  0.  ,  0.93],\n",
       "       [-1.48,  0.  ,  0.86],\n",
       "       [-1.49,  0.  ,  0.8 ],\n",
       "       [-1.49,  0.  ,  0.8 ],\n",
       "       [-1.49,  0.  ,  0.8 ],\n",
       "       [-1.49,  0.  ,  0.8 ],\n",
       "       [-1.49,  0.  ,  0.8 ],\n",
       "       [-1.49,  0.  ,  0.8 ],\n",
       "       [-1.49,  0.  ,  0.8 ],\n",
       "       [-1.49,  0.  ,  0.8 ],\n",
       "       [-1.49,  0.  ,  0.8 ],\n",
       "       [-1.49,  0.  ,  0.8 ],\n",
       "       [-1.49,  0.  ,  0.8 ],\n",
       "       [-1.49,  0.  ,  0.8 ],\n",
       "       [-1.49,  0.  ,  0.8 ],\n",
       "       [-1.47,  0.  ,  0.8 ],\n",
       "       [-1.45,  0.  ,  0.8 ],\n",
       "       [-1.42,  0.  ,  0.8 ],\n",
       "       [-1.4 ,  0.  ,  0.8 ],\n",
       "       [-1.37,  0.  ,  0.8 ],\n",
       "       [-1.32,  0.  ,  0.81],\n",
       "       [-1.27,  0.  ,  0.81],\n",
       "       [-1.2 ,  0.  ,  0.81],\n",
       "       [-1.12,  0.  ,  0.81],\n",
       "       [-1.05,  0.  ,  0.81],\n",
       "       [-0.97,  0.  ,  0.81],\n",
       "       [-0.88,  0.  ,  0.81],\n",
       "       [-0.76,  0.  ,  0.82],\n",
       "       [-0.67,  0.  ,  0.82],\n",
       "       [-0.57,  0.  ,  0.82],\n",
       "       [-0.44,  0.  ,  0.82],\n",
       "       [-0.35,  0.  ,  0.82],\n",
       "       [-0.19,  0.  ,  0.82],\n",
       "       [-0.06,  0.  ,  0.82],\n",
       "       [ 0.06,  0.  ,  0.82],\n",
       "       [ 0.2 ,  0.  ,  0.82],\n",
       "       [ 0.33,  0.  ,  0.82],\n",
       "       [ 0.51,  0.  ,  0.81]])"
      ]
     },
     "execution_count": 31,
     "metadata": {},
     "output_type": "execute_result"
    }
   ],
   "source": [
    "t_xzy = np.round(t_xzy,2)\n",
    "t_xzy[:54]"
   ]
  },
  {
   "cell_type": "code",
   "execution_count": 11,
   "metadata": {},
   "outputs": [],
   "source": [
    "import numpy as np\n",
    "import matplotlib.pyplot as plt"
   ]
  },
  {
   "cell_type": "code",
   "execution_count": 32,
   "metadata": {},
   "outputs": [],
   "source": [
    "x = []\n",
    "y = []\n",
    "\n",
    "for i in range(54):\n",
    "    x.append(p[i][0])\n",
    "    y.append(p[i][2])\n",
    "    "
   ]
  },
  {
   "cell_type": "code",
   "execution_count": 41,
   "metadata": {},
   "outputs": [],
   "source": [
    "xn = []\n",
    "yn = []\n",
    "\n",
    "for i in range(54):\n",
    "    xn.append(((p[i][0])+(t_xzy[i][0]*(-1)+1.379))/2)\n",
    "    yn.append(((p[i][2])+(t_xzy[i][2]*(-1)+1.793))/2)\n",
    "    "
   ]
  },
  {
   "cell_type": "code",
   "execution_count": 43,
   "metadata": {},
   "outputs": [],
   "source": [
    "x_t = []\n",
    "y_t = []\n",
    "\n",
    "for i in range(54):\n",
    "    x_t.append(t_xzy[i][0]*(-1)+1.379)\n",
    "    y_t.append(t_xzy[i][2]*(-1)+1.793)"
   ]
  },
  {
   "cell_type": "code",
   "execution_count": 42,
   "metadata": {},
   "outputs": [
    {
     "data": {
      "image/png": "[encoded data removed]",
      "text/plain": [
       "<Figure size 432x288 with 1 Axes>"
      ]
     },
     "metadata": {
      "needs_background": "light"
     },
     "output_type": "display_data"
    }
   ],
   "source": [
    "plt.scatter(xn, yn)\n",
    "plt.show()"
   ]
  },
  {
   "cell_type": "code",
   "execution_count": 35,
   "metadata": {},
   "outputs": [
    {
     "data": {
      "image/png": "[encoded data removed]",
      "text/plain": [
       "<Figure size 432x288 with 1 Axes>"
      ]
     },
     "metadata": {
      "needs_background": "light"
     },
     "output_type": "display_data"
    }
   ],
   "source": [
    "plt.scatter(x, y)\n",
    "plt.show()"
   ]
  },
  {
   "cell_type": "code",
   "execution_count": 44,
   "metadata": {},
   "outputs": [
    {
     "data": {
      "image/png": "[encoded data removed]",
      "text/plain": [
       "<Figure size 432x288 with 1 Axes>"
      ]
     },
     "metadata": {
      "needs_background": "light"
     },
     "output_type": "display_data"
    }
   ],
   "source": [
    "plt.scatter(x_t, y_t)\n",
    "plt.show()"
   ]
  },
  {
   "cell_type": "code",
   "execution_count": 62,
   "metadata": {},
   "outputs": [
    {
     "data": {
      "text/plain": [
       "(94, 2)"
      ]
     },
     "execution_count": 62,
     "metadata": {},
     "output_type": "execute_result"
    }
   ],
   "source": [
    "vo.kps_cur.shape"
   ]
  },
  {
   "cell_type": "code",
   "execution_count": 17,
   "metadata": {},
   "outputs": [
    {
     "data": {
      "text/plain": [
       "[0.0,\n",
       " 0.0,\n",
       " 0.0,\n",
       " 0.0,\n",
       " 0.0,\n",
       " 0.0,\n",
       " 0.0,\n",
       " 0.0,\n",
       " 0.0,\n",
       " 0.0,\n",
       " 0.0,\n",
       " 0.0,\n",
       " 0.0,\n",
       " 0.0,\n",
       " 0.0,\n",
       " 0.0,\n",
       " 0.0,\n",
       " 0.0,\n",
       " 0.0,\n",
       " 0.0,\n",
       " 0.0,\n",
       " 0.0,\n",
       " 0.0,\n",
       " 0.0,\n",
       " 0.0,\n",
       " 0.0,\n",
       " 0.0,\n",
       " 0.0,\n",
       " 0.0,\n",
       " 0.0,\n",
       " 0.0,\n",
       " 0.0,\n",
       " 0.0,\n",
       " 0.0,\n",
       " 0.0,\n",
       " 0.0,\n",
       " 0.0,\n",
       " 0.0,\n",
       " 0.0,\n",
       " 0.0,\n",
       " 0.0,\n",
       " 0.0,\n",
       " 0.0,\n",
       " 0.0,\n",
       " 0.0,\n",
       " 0.0,\n",
       " 0.0,\n",
       " 0.0,\n",
       " 0.0,\n",
       " 0.0,\n",
       " 0.0,\n",
       " 0.0,\n",
       " 0.0,\n",
       " 0.0]"
      ]
     },
     "execution_count": 17,
     "metadata": {},
     "output_type": "execute_result"
    }
   ],
   "source": [
    "x"
   ]
  },
  {
   "cell_type": "code",
   "execution_count": 16,
   "metadata": {},
   "outputs": [],
   "source": [
    "def display_top(snapshot, key_type='lineno', limit=10):\n",
    "    snapshot = snapshot.filter_traces((\n",
    "        tracemalloc.Filter(False, \"<frozen importlib._bootstrap>\"),\n",
    "        tracemalloc.Filter(False, \"<unknown>\"),\n",
    "    ))\n",
    "    top_stats = snapshot.statistics(key_type)\n",
    "\n",
    "    print(\"Top %s lines\" % limit)\n",
    "    for index, stat in enumerate(top_stats[:limit], 1):\n",
    "        frame = stat.traceback[0]\n",
    "        print(\"#%s: %s:%s: %.1f KiB\"\n",
    "              % (index, frame.filename, frame.lineno, stat.size / 1024))\n",
    "        line = linecache.getline(frame.filename, frame.lineno).strip()\n",
    "        if line:\n",
    "            print('    %s' % line)\n",
    "\n",
    "    other = top_stats[limit:]\n",
    "    if other:\n",
    "        size = sum(stat.size for stat in other)\n",
    "        print(\"%s other: %.1f KiB\" % (len(other), size / 1024))\n",
    "    total = sum(stat.size for stat in top_stats)\n",
    "    print(\"Total allocated size: %.1f KiB\" % (total / 1024))\n"
   ]
  },
  {
   "cell_type": "code",
   "execution_count": 16,
   "metadata": {},
   "outputs": [
    {
     "data": {
      "text/plain": [
       "array([[ 0.78281471],\n",
       "       [-0.0212825 ],\n",
       "       [ 0.62189081]])"
      ]
     },
     "execution_count": 16,
     "metadata": {},
     "output_type": "execute_result"
    }
   ],
   "source": [
    "vo.trans_est"
   ]
  },
  {
   "cell_type": "code",
   "execution_count": 15,
   "metadata": {},
   "outputs": [
    {
     "data": {
      "text/plain": [
       "True"
      ]
     },
     "execution_count": 15,
     "metadata": {},
     "output_type": "execute_result"
    }
   ],
   "source": [
    "cv2.imwrite(\"Images/current.jpg\", img2)"
   ]
  },
  {
   "cell_type": "code",
   "execution_count": 17,
   "metadata": {},
   "outputs": [
    {
     "name": "stdout",
     "output_type": "stream",
     "text": [
      "[[ 0.99959432  0.00204117  0.02840809]\n",
      " [-0.00209109  0.99999632  0.00172741]\n",
      " [-0.02840446 -0.00178611  0.99959492]]\n"
     ]
    }
   ],
   "source": [
    "print(vo.cur_R)"
   ]
  },
  {
   "cell_type": "code",
   "execution_count": 11,
   "metadata": {},
   "outputs": [
    {
     "name": "stdout",
     "output_type": "stream",
     "text": [
      "[[ 0.78281471]\n",
      " [-0.0212825 ]\n",
      " [ 0.62189081]]\n"
     ]
    }
   ],
   "source": [
    "print(vo.cur_t)"
   ]
  },
  {
   "cell_type": "code",
   "execution_count": 64,
   "metadata": {},
   "outputs": [],
   "source": [
    "a,b = None, None"
   ]
  },
  {
   "cell_type": "code",
   "execution_count": 21,
   "metadata": {},
   "outputs": [
    {
     "data": {
      "text/plain": [
       "[[array([0.]), array([0.]), array([0.])]]"
      ]
     },
     "execution_count": 21,
     "metadata": {},
     "output_type": "execute_result"
    }
   ],
   "source": [
    "vo.trans_est_ref"
   ]
  },
  {
   "cell_type": "code",
   "execution_count": 32,
   "metadata": {},
   "outputs": [
    {
     "data": {
      "text/plain": [
       "array([-0.00492516,  0.0938872 , -0.01327321])"
      ]
     },
     "execution_count": 32,
     "metadata": {},
     "output_type": "execute_result"
    }
   ],
   "source": [
    "compute_euler_angle(vo.cur_R)"
   ]
  },
  {
   "cell_type": "code",
   "execution_count": 12,
   "metadata": {},
   "outputs": [
    {
     "name": "stdout",
     "output_type": "stream",
     "text": [
      "processing second frame\n",
      "# matched points:  55 , # inliers:  19\n"
     ]
    }
   ],
   "source": [
    "vo.trackImage(image_2)"
   ]
  },
  {
   "cell_type": "code",
   "execution_count": 13,
   "metadata": {},
   "outputs": [
    {
     "data": {
      "text/plain": [
       "True"
      ]
     },
     "execution_count": 13,
     "metadata": {},
     "output_type": "execute_result"
    }
   ],
   "source": [
    "img2 = vo.draw_img\n",
    "cv2.imwrite(\"Images/res/image2.jpg\", img2)"
   ]
  },
  {
   "cell_type": "code",
   "execution_count": 16,
   "metadata": {},
   "outputs": [
    {
     "data": {
      "text/plain": [
       "array([[1.18445052],\n",
       "       [0.05603373],\n",
       "       [1.53442075]])"
      ]
     },
     "execution_count": 16,
     "metadata": {},
     "output_type": "execute_result"
    }
   ],
   "source": [
    "vo.cur_t"
   ]
  },
  {
   "cell_type": "code",
   "execution_count": 19,
   "metadata": {},
   "outputs": [
    {
     "data": {
      "text/plain": [
       "array([[ 0.99959432,  0.00204117,  0.02840809,  0.        ],\n",
       "       [-0.00209109,  0.99999632,  0.00172741,  0.        ],\n",
       "       [-0.02840446, -0.00178611,  0.99959492,  0.        ],\n",
       "       [ 0.        ,  0.        ,  0.        ,  1.        ]])"
      ]
     },
     "execution_count": 19,
     "metadata": {},
     "output_type": "execute_result"
    }
   ],
   "source": [
    "vo.poses[0]"
   ]
  },
  {
   "cell_type": "code",
   "execution_count": 20,
   "metadata": {},
   "outputs": [
    {
     "data": {
      "text/plain": [
       "array([[ 9.98023904e-01, -3.12445700e-04,  6.28346193e-02,\n",
       "         4.01635806e-01],\n",
       "       [ 9.73925527e-04,  9.99944431e-01, -1.04969621e-02,\n",
       "         7.73162345e-02],\n",
       "       [-6.28278480e-02,  1.05374154e-02,  9.97968749e-01,\n",
       "         9.12529933e-01],\n",
       "       [ 0.00000000e+00,  0.00000000e+00,  0.00000000e+00,\n",
       "         1.00000000e+00]])"
      ]
     },
     "execution_count": 20,
     "metadata": {},
     "output_type": "execute_result"
    }
   ],
   "source": [
    "vo.poses[1]"
   ]
  },
  {
   "cell_type": "code",
   "execution_count": 26,
   "metadata": {},
   "outputs": [
    {
     "data": {
      "text/plain": [
       "[[array([0.]), array([0.]), array([0.])],\n",
       " [array([0.40163581]), array([0.07731623]), array([0.91252993])]]"
      ]
     },
     "execution_count": 26,
     "metadata": {},
     "output_type": "execute_result"
    }
   ],
   "source": [
    "vo.trans_est_ref"
   ]
  },
  {
   "cell_type": "code",
   "execution_count": 22,
   "metadata": {},
   "outputs": [
    {
     "data": {
      "text/plain": [
       "array([[1.18445052],\n",
       "       [0.05603373],\n",
       "       [1.53442075]])"
      ]
     },
     "execution_count": 22,
     "metadata": {},
     "output_type": "execute_result"
    }
   ],
   "source": [
    "vo.cur_t"
   ]
  },
  {
   "cell_type": "code",
   "execution_count": 23,
   "metadata": {},
   "outputs": [
    {
     "data": {
      "text/plain": [
       "array([[ 9.98023904e-01, -3.12445700e-04,  6.28346193e-02],\n",
       "       [ 9.73925527e-04,  9.99944431e-01, -1.04969621e-02],\n",
       "       [-6.28278480e-02,  1.05374154e-02,  9.97968749e-01]])"
      ]
     },
     "execution_count": 23,
     "metadata": {},
     "output_type": "execute_result"
    }
   ],
   "source": [
    "vo.cur_R"
   ]
  },
  {
   "cell_type": "code",
   "execution_count": 27,
   "metadata": {},
   "outputs": [
    {
     "name": "stdout",
     "output_type": "stream",
     "text": [
      "processing second frame\n",
      "# matched points:  50 , # inliers:  15\n"
     ]
    }
   ],
   "source": [
    "vo.trackImage(image_3)"
   ]
  },
  {
   "cell_type": "code",
   "execution_count": 28,
   "metadata": {},
   "outputs": [
    {
     "data": {
      "text/plain": [
       "True"
      ]
     },
     "execution_count": 28,
     "metadata": {},
     "output_type": "execute_result"
    }
   ],
   "source": [
    "img2 = vo.draw_img\n",
    "cv2.imwrite(\"Images/res/image2.jpg\", img2)"
   ]
  },
  {
   "cell_type": "code",
   "execution_count": 29,
   "metadata": {},
   "outputs": [
    {
     "data": {
      "text/plain": [
       "[[array([0.]), array([0.]), array([0.])],\n",
       " [array([0.40163581]), array([0.07731623]), array([0.91252993])],\n",
       " [array([0.95375506]), array([-0.00526277]), array([1.74219555])]]"
      ]
     },
     "execution_count": 29,
     "metadata": {},
     "output_type": "execute_result"
    }
   ],
   "source": [
    "vo.trans_est_ref"
   ]
  },
  {
   "cell_type": "code",
   "execution_count": 30,
   "metadata": {},
   "outputs": [
    {
     "data": {
      "text/plain": [
       "array([[ 1.73656977],\n",
       "       [-0.02654527],\n",
       "       [ 2.36408636]])"
      ]
     },
     "execution_count": 30,
     "metadata": {},
     "output_type": "execute_result"
    }
   ],
   "source": [
    "vo.cur_t"
   ]
  },
  {
   "cell_type": "code",
   "execution_count": 31,
   "metadata": {},
   "outputs": [
    {
     "data": {
      "text/plain": [
       "array([[ 0.99550813,  0.01321437,  0.09374933],\n",
       "       [-0.01373435,  0.99989366,  0.00490345],\n",
       "       [-0.09367457, -0.00616901,  0.99558376]])"
      ]
     },
     "execution_count": 31,
     "metadata": {},
     "output_type": "execute_result"
    }
   ],
   "source": [
    "vo.cur_R"
   ]
  },
  {
   "cell_type": "code",
   "execution_count": 34,
   "metadata": {},
   "outputs": [
    {
     "data": {
      "text/plain": [
       "True"
      ]
     },
     "execution_count": 34,
     "metadata": {},
     "output_type": "execute_result"
    }
   ],
   "source": [
    "img3 = vo.draw_img\n",
    "cv2.imwrite(\"Images/res/image3.jpg\", img3)"
   ]
  },
  {
   "cell_type": "code",
   "execution_count": 65,
   "metadata": {},
   "outputs": [
    {
     "data": {
      "text/plain": [
       "array([[-0.   , -0.   , -1.678],\n",
       "       [-0.   , -0.   , -1.679],\n",
       "       [-0.   , -0.   , -1.68 ],\n",
       "       [-0.   , -0.   , -1.681],\n",
       "       [-0.   , -0.   , -1.682],\n",
       "       [-0.   , -0.   , -1.68 ],\n",
       "       [-0.   , -0.   , -1.677],\n",
       "       [-0.   , -0.   , -1.679],\n",
       "       [-0.   , -0.   , -1.681],\n",
       "       [-0.   , -0.   , -1.681],\n",
       "       [-0.   , -0.   , -1.681],\n",
       "       [-0.   , -0.   , -1.683],\n",
       "       [-0.   , -0.   , -1.685],\n",
       "       [-0.   , -0.   , -1.687],\n",
       "       [-0.   , -0.   , -1.689],\n",
       "       [-0.   , -0.   , -1.691],\n",
       "       [-0.   , -0.   , -1.694],\n",
       "       [-0.   , -0.   , -1.695],\n",
       "       [-0.   , -0.   , -1.696],\n",
       "       [-0.   , -0.   , -1.651],\n",
       "       [-0.   , -0.   , -1.466],\n",
       "       [-0.   , -0.   , -1.304],\n",
       "       [-0.   , -0.   , -1.136],\n",
       "       [-0.   , -0.   , -0.961],\n",
       "       [-0.   , -0.   , -0.806],\n",
       "       [-0.   , -0.   , -0.634],\n",
       "       [-0.   , -0.   , -0.472],\n",
       "       [-0.   , -0.   , -0.31 ],\n",
       "       [-0.   , -0.   , -0.182],\n",
       "       [ 0.   , -0.   ,  0.018],\n",
       "       [ 0.   , -0.   ,  0.02 ],\n",
       "       [ 0.   , -0.   ,  0.023],\n",
       "       [ 0.   , -0.   ,  0.021],\n",
       "       [ 0.   , -0.   ,  0.021],\n",
       "       [ 0.   , -0.   ,  0.02 ],\n",
       "       [ 0.   , -0.   ,  0.019],\n",
       "       [ 0.   , -0.   ,  0.021],\n",
       "       [ 0.   , -0.   ,  0.019],\n",
       "       [ 0.   , -0.   ,  0.021],\n",
       "       [ 0.   , -0.   ,  0.018],\n",
       "       [ 0.   , -0.   ,  0.016],\n",
       "       [ 0.   , -0.   ,  0.014],\n",
       "       [ 0.   , -0.   ,  0.016],\n",
       "       [ 0.   , -0.   ,  0.012],\n",
       "       [ 0.   , -0.   ,  0.01 ],\n",
       "       [ 0.   , -0.   ,  0.007],\n",
       "       [ 0.   , -0.   ,  0.007],\n",
       "       [ 0.   , -0.   ,  0.004],\n",
       "       [ 0.   , -0.   ,  0.   ],\n",
       "       [-0.   , -0.   , -0.003],\n",
       "       [-0.   , -0.   , -0.006],\n",
       "       [-0.   , -0.   , -0.007],\n",
       "       [-0.   , -0.   , -0.01 ],\n",
       "       [-0.   , -0.   , -0.015],\n",
       "       [-0.   , -0.   , -0.019],\n",
       "       [-0.   , -0.   , -0.023],\n",
       "       [-0.   , -0.   , -0.019],\n",
       "       [ 0.   , -0.   ,  0.057],\n",
       "       [ 0.   , -0.   ,  0.262],\n",
       "       [ 0.   , -0.   ,  0.424],\n",
       "       [ 0.   , -0.   ,  0.589],\n",
       "       [ 0.   , -0.   ,  0.737],\n",
       "       [ 0.   , -0.   ,  0.919],\n",
       "       [ 0.   , -0.   ,  1.051],\n",
       "       [ 0.   , -0.   ,  1.249],\n",
       "       [ 0.   , -0.   ,  1.418],\n",
       "       [ 0.   , -0.   ,  1.524],\n",
       "       [ 0.   , -0.   ,  1.523],\n",
       "       [ 0.   , -0.   ,  1.522],\n",
       "       [ 0.   , -0.   ,  1.521],\n",
       "       [ 0.   , -0.   ,  1.52 ],\n",
       "       [ 0.   , -0.   ,  1.519],\n",
       "       [ 0.   , -0.   ,  1.521],\n",
       "       [ 0.   , -0.   ,  1.52 ],\n",
       "       [ 0.   , -0.   ,  1.52 ],\n",
       "       [ 0.   , -0.   ,  1.508],\n",
       "       [ 0.   , -0.   ,  1.502],\n",
       "       [ 0.   , -0.   ,  1.497],\n",
       "       [ 0.   , -0.   ,  1.492],\n",
       "       [ 0.   , -0.   ,  1.487],\n",
       "       [ 0.   , -0.   ,  1.482],\n",
       "       [ 0.   , -0.   ,  1.476],\n",
       "       [ 0.   , -0.   ,  1.47 ],\n",
       "       [ 0.   , -0.   ,  1.462],\n",
       "       [ 0.   , -0.   ,  1.461],\n",
       "       [ 0.   , -0.   ,  1.44 ],\n",
       "       [ 0.   , -0.   ,  1.275],\n",
       "       [ 0.   , -0.   ,  1.126],\n",
       "       [ 0.   , -0.   ,  0.927],\n",
       "       [ 0.   , -0.   ,  0.775],\n",
       "       [ 0.   , -0.   ,  0.745],\n",
       "       [ 0.   , -0.   ,  0.746],\n",
       "       [ 0.   , -0.   ,  0.745],\n",
       "       [ 0.   , -0.   ,  0.856],\n",
       "       [ 0.   , -0.   ,  1.007],\n",
       "       [ 0.   , -0.   ,  1.189],\n",
       "       [ 0.   , -0.   ,  1.357],\n",
       "       [ 0.   , -0.   ,  1.526],\n",
       "       [ 0.   , -0.   ,  1.684],\n",
       "       [ 0.   , -0.   ,  1.85 ]])"
      ]
     },
     "execution_count": 65,
     "metadata": {},
     "output_type": "execute_result"
    }
   ],
   "source": [
    "r"
   ]
  },
  {
   "cell_type": "code",
   "execution_count": null,
   "metadata": {},
   "outputs": [],
   "source": []
  }
 ],
 "metadata": {
  "kernelspec": {
   "display_name": "Python 3",
   "language": "python",
   "name": "python3"
  },
  "language_info": {
   "codemirror_mode": {
    "name": "ipython",
    "version": 3
   },
   "file_extension": ".py",
   "mimetype": "text/x-python",
   "name": "python",
   "nbconvert_exporter": "python",
   "pygments_lexer": "ipython3",
   "version": "3.7.3"
  }
 },
 "nbformat": 4,
 "nbformat_minor": 2
}
