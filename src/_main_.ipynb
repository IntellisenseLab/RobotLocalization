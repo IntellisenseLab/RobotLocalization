{
 "cells": [
  {
   "cell_type": "code",
   "execution_count": 364,
   "metadata": {},
   "outputs": [],
   "source": [
    "import numpy as np\n",
    "import cv2\n",
    "\n",
    "from feature_tracker import FeatureTrackerTypes, FeatureTracker, FeatureTrackingResult\n",
    "from feature_orb2D import OrbFeature2D\n",
    "from feature_matcher import feature_matcher_factory, FeatureMatcherTypes\n",
    "from parameters import Parameters \n",
    "import random\n",
    "import tracemalloc\n",
    "import linecache\n",
    "from visual_odometry import ImageRecievedState, VisualOdometry\n",
    "from camera import KinectCamera\n",
    "from utils import compute_euler_angle"
   ]
  },
  {
   "cell_type": "code",
   "execution_count": 365,
   "metadata": {},
   "outputs": [],
   "source": [
    "import time"
   ]
  },
  {
   "cell_type": "code",
   "execution_count": 366,
   "metadata": {},
   "outputs": [],
   "source": [
    "from mpl_toolkits.mplot3d import Axes3D\n",
    "import matplotlib.pyplot as plt"
   ]
  },
  {
   "cell_type": "code",
   "execution_count": 367,
   "metadata": {},
   "outputs": [
    {
     "name": "stdout",
     "output_type": "stream",
     "text": [
      "Using Orb Feature 2D\n"
     ]
    }
   ],
   "source": [
    "MinNumFeatureDefault = Parameters.MinNumFeatureDefault\n",
    "RatioTest = Parameters.FeatureMatchRatioTest\n",
    "gt_t = np.load(\"101/0/translations.npy\")\n",
    "gt_r = np.load(\"101/0/rotationsM.npy\")\n",
    "depth = np.load(\"101/0/depth.npy\")\n",
    "\n",
    "width  = 640\n",
    "height = 480\n",
    "fx     = 554.254691191187\n",
    "fy     = 554.254691191187\n",
    "cx     = 320.5\n",
    "cy     = 240.5\n",
    "D      = [0.0, 0.0, 0.0, 0.0, 0.0] \n",
    "\n",
    "cam = KinectCamera(width, height, fx, fy, cx, cy, D)\n",
    "\n",
    "feature_tracker = FeatureTracker(num_features=MinNumFeatureDefault, \n",
    "                       num_levels = 8,  \n",
    "                       scale_factor = 1.2,   \n",
    "                       match_ratio_test = RatioTest, \n",
    "                       tracker_type = FeatureTrackerTypes.DES_BF)"
   ]
  },
  {
   "cell_type": "code",
   "execution_count": 393,
   "metadata": {},
   "outputs": [],
   "source": [
    "vo = VisualOdometry(cam, feature_tracker, gt_t, gt_r)"
   ]
  },
  {
   "cell_type": "code",
   "execution_count": 394,
   "metadata": {},
   "outputs": [
    {
     "name": "stdout",
     "output_type": "stream",
     "text": [
      "processing first frame\n"
     ]
    }
   ],
   "source": [
    "#process first frame\n",
    "max_n = 200\n",
    "error_threshold = 0.2\n",
    "path = \"101/image_0.jpg\"\n",
    "img = cv2.imread(path)\n",
    "vo.trackImage(img,0)"
   ]
  },
  {
   "cell_type": "code",
   "execution_count": 395,
   "metadata": {},
   "outputs": [
    {
     "name": "stdout",
     "output_type": "stream",
     "text": [
      "processing 1 frame\n",
      "# matched points:  1669 , # inliers:  1652\n",
      "processing 2 frame\n",
      "# matched points:  1694 , # inliers:  1682\n",
      "processing 3 frame\n",
      "# matched points:  1080 , # inliers:  885\n",
      "processing 4 frame\n",
      "# matched points:  979 , # inliers:  695\n",
      "processing 5 frame\n",
      "# matched points:  1018 , # inliers:  785\n",
      "processing 6 frame\n",
      "# matched points:  967 , # inliers:  619\n",
      "processing 7 frame\n",
      "# matched points:  857 , # inliers:  472\n",
      "processing 8 frame\n",
      "# matched points:  861 , # inliers:  473\n",
      "processing 9 frame\n",
      "# matched points:  865 , # inliers:  495\n",
      "processing 10 frame\n",
      "# matched points:  984 , # inliers:  732\n",
      "processing 11 frame\n",
      "# matched points:  954 , # inliers:  644\n",
      "processing 12 frame\n",
      "# matched points:  1005 , # inliers:  733\n",
      "processing 13 frame\n",
      "# matched points:  954 , # inliers:  643\n",
      "processing 14 frame\n",
      "# matched points:  956 , # inliers:  634\n",
      "processing 15 frame\n",
      "# matched points:  994 , # inliers:  701\n",
      "processing 16 frame\n",
      "# matched points:  945 , # inliers:  631\n",
      "processing 17 frame\n",
      "# matched points:  932 , # inliers:  665\n",
      "processing 18 frame\n",
      "# matched points:  946 , # inliers:  651\n",
      "processing 19 frame\n",
      "# matched points:  957 , # inliers:  645\n",
      "processing 20 frame\n",
      "# matched points:  985 , # inliers:  746\n",
      "processing 21 frame\n",
      "# matched points:  917 , # inliers:  612\n",
      "processing 22 frame\n",
      "# matched points:  902 , # inliers:  626\n",
      "processing 23 frame\n",
      "# matched points:  908 , # inliers:  649\n",
      "processing 24 frame\n",
      "# matched points:  925 , # inliers:  659\n",
      "processing 25 frame\n",
      "# matched points:  925 , # inliers:  609\n",
      "processing 26 frame\n",
      "# matched points:  936 , # inliers:  654\n",
      "processing 27 frame\n",
      "# matched points:  880 , # inliers:  549\n",
      "processing 28 frame\n",
      "# matched points:  940 , # inliers:  630\n",
      "processing 29 frame\n",
      "# matched points:  908 , # inliers:  619\n",
      "processing 30 frame\n",
      "# matched points:  600 , # inliers:  226\n",
      "processing 31 frame\n",
      "# matched points:  707 , # inliers:  273\n",
      "processing 32 frame\n",
      "# matched points:  475 , # inliers:  127\n",
      "processing 33 frame\n",
      "# matched points:  747 , # inliers:  375\n",
      "processing 34 frame\n",
      "# matched points:  790 , # inliers:  442\n",
      "processing 35 frame\n",
      "# matched points:  806 , # inliers:  326\n",
      "processing 36 frame\n",
      "# matched points:  843 , # inliers:  279\n",
      "processing 37 frame\n",
      "# matched points:  1035 , # inliers:  694\n",
      "processing 38 frame\n",
      "# matched points:  976 , # inliers:  740\n",
      "processing 39 frame\n",
      "# matched points:  939 , # inliers:  594\n",
      "processing 40 frame\n",
      "# matched points:  1007 , # inliers:  705\n",
      "processing 41 frame\n",
      "# matched points:  815 , # inliers:  296\n",
      "processing 42 frame\n",
      "# matched points:  493 , # inliers:  153\n",
      "processing 43 frame\n",
      "# matched points:  381 , # inliers:  112\n",
      "processing 44 frame\n",
      "# matched points:  368 , # inliers:  120\n",
      "processing 45 frame\n",
      "# matched points:  304 , # inliers:  102\n",
      "processing 46 frame\n",
      "# matched points:  351 , # inliers:  128\n",
      "processing 47 frame\n",
      "# matched points:  353 , # inliers:  163\n",
      "processing 48 frame\n",
      "# matched points:  357 , # inliers:  138\n",
      "processing 49 frame\n",
      "# matched points:  381 , # inliers:  146\n",
      "processing 50 frame\n",
      "# matched points:  350 , # inliers:  161\n",
      "processing 51 frame\n",
      "# matched points:  358 , # inliers:  138\n",
      "processing 52 frame\n",
      "# matched points:  353 , # inliers:  156\n",
      "processing 53 frame\n",
      "# matched points:  360 , # inliers:  138\n",
      "processing 54 frame\n",
      "# matched points:  366 , # inliers:  148\n",
      "processing 55 frame\n",
      "# matched points:  345 , # inliers:  131\n",
      "processing 56 frame\n",
      "# matched points:  237 , # inliers:  98\n",
      "processing 57 frame\n",
      "# matched points:  230 , # inliers:  91\n",
      "processing 58 frame\n",
      "# matched points:  224 , # inliers:  86\n",
      "processing 59 frame\n",
      "# matched points:  274 , # inliers:  105\n",
      "processing 60 frame\n",
      "# matched points:  210 , # inliers:  81\n",
      "processing 61 frame\n",
      "# matched points:  259 , # inliers:  98\n",
      "processing 62 frame\n",
      "# matched points:  263 , # inliers:  98\n",
      "processing 63 frame\n",
      "# matched points:  334 , # inliers:  139\n",
      "processing 64 frame\n",
      "# matched points:  333 , # inliers:  136\n",
      "processing 65 frame\n",
      "# matched points:  307 , # inliers:  125\n",
      "processing 66 frame\n",
      "# matched points:  287 , # inliers:  123\n",
      "processing 67 frame\n",
      "# matched points:  314 , # inliers:  138\n",
      "processing 68 frame\n",
      "# matched points:  304 , # inliers:  137\n",
      "processing 69 frame\n",
      "# matched points:  320 , # inliers:  146\n",
      "processing 70 frame\n",
      "# matched points:  357 , # inliers:  133\n",
      "processing 71 frame\n",
      "# matched points:  468 , # inliers:  170\n",
      "processing 72 frame\n",
      "# matched points:  528 , # inliers:  192\n",
      "processing 73 frame\n",
      "# matched points:  565 , # inliers:  252\n",
      "processing 74 frame\n",
      "# matched points:  558 , # inliers:  241\n",
      "processing 75 frame\n",
      "# matched points:  570 , # inliers:  247\n",
      "processing 76 frame\n",
      "# matched points:  441 , # inliers:  158\n",
      "processing 77 frame\n",
      "# matched points:  428 , # inliers:  195\n",
      "processing 78 frame\n",
      "# matched points:  484 , # inliers:  232\n",
      "processing 79 frame\n",
      "# matched points:  504 , # inliers:  185\n",
      "processing 80 frame\n",
      "# matched points:  544 , # inliers:  268\n",
      "processing 81 frame\n",
      "# matched points:  547 , # inliers:  286\n",
      "processing 82 frame\n",
      "# matched points:  567 , # inliers:  287\n",
      "processing 83 frame\n",
      "# matched points:  485 , # inliers:  182\n",
      "processing 84 frame\n",
      "# matched points:  469 , # inliers:  159\n",
      "processing 85 frame\n",
      "# matched points:  451 , # inliers:  194\n",
      "processing 86 frame\n",
      "# matched points:  463 , # inliers:  175\n",
      "processing 87 frame\n",
      "# matched points:  445 , # inliers:  191\n",
      "processing 88 frame\n",
      "# matched points:  457 , # inliers:  209\n",
      "processing 89 frame\n",
      "# matched points:  520 , # inliers:  198\n",
      "processing 90 frame\n",
      "# matched points:  559 , # inliers:  255\n",
      "processing 91 frame\n",
      "# matched points:  569 , # inliers:  274\n",
      "processing 92 frame\n",
      "# matched points:  513 , # inliers:  237\n",
      "processing 93 frame\n",
      "# matched points:  460 , # inliers:  152\n",
      "processing 94 frame\n",
      "# matched points:  461 , # inliers:  181\n",
      "processing 95 frame\n",
      "# matched points:  474 , # inliers:  204\n",
      "processing 96 frame\n",
      "# matched points:  422 , # inliers:  176\n",
      "processing 97 frame\n",
      "# matched points:  458 , # inliers:  177\n",
      "processing 98 frame\n",
      "# matched points:  435 , # inliers:  175\n",
      "processing 99 frame\n",
      "# matched points:  469 , # inliers:  179\n",
      "processing 100 frame\n",
      "# matched points:  416 , # inliers:  169\n",
      "processing 101 frame\n",
      "# matched points:  477 , # inliers:  204\n",
      "processing 102 frame\n",
      "# matched points:  443 , # inliers:  165\n",
      "processing 103 frame\n",
      "# matched points:  435 , # inliers:  163\n",
      "processing 104 frame\n",
      "# matched points:  400 , # inliers:  155\n",
      "processing 105 frame\n",
      "# matched points:  394 , # inliers:  147\n",
      "processing 106 frame\n",
      "# matched points:  449 , # inliers:  186\n",
      "processing 107 frame\n",
      "# matched points:  444 , # inliers:  138\n",
      "processing 108 frame\n",
      "# matched points:  459 , # inliers:  197\n",
      "processing 109 frame\n",
      "# matched points:  365 , # inliers:  116\n",
      "processing 110 frame\n",
      "# matched points:  410 , # inliers:  123\n",
      "processing 111 frame\n",
      "# matched points:  356 , # inliers:  113\n",
      "processing 112 frame\n",
      "# matched points:  400 , # inliers:  140\n",
      "processing 113 frame\n",
      "# matched points:  431 , # inliers:  221\n",
      "processing 114 frame\n",
      "# matched points:  441 , # inliers:  175\n",
      "processing 115 frame\n",
      "# matched points:  464 , # inliers:  198\n",
      "processing 116 frame\n",
      "# matched points:  437 , # inliers:  160\n",
      "processing 117 frame\n",
      "# matched points:  563 , # inliers:  276\n",
      "processing 118 frame\n",
      "# matched points:  391 , # inliers:  143\n",
      "processing 119 frame\n",
      "# matched points:  371 , # inliers:  125\n",
      "processing 120 frame\n",
      "# matched points:  442 , # inliers:  162\n",
      "processing 121 frame\n",
      "# matched points:  370 , # inliers:  125\n",
      "processing 122 frame\n",
      "# matched points:  378 , # inliers:  135\n",
      "processing 123 frame\n",
      "# matched points:  406 , # inliers:  156\n",
      "processing 124 frame\n",
      "# matched points:  451 , # inliers:  155\n",
      "processing 125 frame\n",
      "# matched points:  470 , # inliers:  154\n",
      "processing 126 frame\n",
      "# matched points:  444 , # inliers:  157\n",
      "processing 127 frame\n",
      "# matched points:  460 , # inliers:  208\n",
      "processing 128 frame\n",
      "# matched points:  414 , # inliers:  145\n",
      "processing 129 frame\n",
      "# matched points:  404 , # inliers:  151\n",
      "processing 130 frame\n",
      "# matched points:  358 , # inliers:  131\n",
      "processing 131 frame\n",
      "# matched points:  407 , # inliers:  144\n",
      "processing 132 frame\n",
      "# matched points:  596 , # inliers:  313\n",
      "processing 133 frame\n",
      "# matched points:  480 , # inliers:  182\n",
      "processing 134 frame\n",
      "# matched points:  490 , # inliers:  170\n",
      "processing 135 frame\n"
     ]
    },
    {
     "name": "stdout",
     "output_type": "stream",
     "text": [
      "# matched points:  379 , # inliers:  124\n",
      "processing 136 frame\n",
      "# matched points:  402 , # inliers:  140\n",
      "processing 137 frame\n",
      "# matched points:  395 , # inliers:  135\n",
      "processing 138 frame\n",
      "# matched points:  419 , # inliers:  138\n",
      "processing 139 frame\n",
      "# matched points:  417 , # inliers:  126\n",
      "processing 140 frame\n",
      "# matched points:  369 , # inliers:  127\n",
      "processing 141 frame\n",
      "# matched points:  384 , # inliers:  124\n",
      "processing 142 frame\n",
      "# matched points:  406 , # inliers:  137\n",
      "processing 143 frame\n",
      "# matched points:  405 , # inliers:  126\n",
      "processing 144 frame\n",
      "# matched points:  379 , # inliers:  130\n",
      "processing 145 frame\n",
      "# matched points:  400 , # inliers:  136\n",
      "processing 146 frame\n",
      "# matched points:  364 , # inliers:  109\n",
      "processing 147 frame\n",
      "# matched points:  417 , # inliers:  144\n",
      "processing 148 frame\n",
      "# matched points:  380 , # inliers:  120\n",
      "processing 149 frame\n",
      "# matched points:  402 , # inliers:  159\n",
      "processing 150 frame\n",
      "# matched points:  352 , # inliers:  105\n",
      "processing 151 frame\n",
      "# matched points:  367 , # inliers:  122\n",
      "processing 152 frame\n",
      "# matched points:  377 , # inliers:  120\n",
      "processing 153 frame\n",
      "# matched points:  361 , # inliers:  110\n",
      "processing 154 frame\n",
      "# matched points:  396 , # inliers:  139\n",
      "processing 155 frame\n",
      "# matched points:  344 , # inliers:  100\n",
      "processing 156 frame\n",
      "# matched points:  380 , # inliers:  124\n",
      "processing 157 frame\n",
      "# matched points:  383 , # inliers:  130\n",
      "processing 158 frame\n",
      "# matched points:  335 , # inliers:  99\n",
      "processing 159 frame\n",
      "# matched points:  337 , # inliers:  118\n",
      "processing 160 frame\n",
      "# matched points:  303 , # inliers:  100\n",
      "processing 161 frame\n",
      "# matched points:  308 , # inliers:  110\n",
      "processing 162 frame\n",
      "# matched points:  333 , # inliers:  108\n",
      "processing 163 frame\n",
      "# matched points:  318 , # inliers:  95\n",
      "processing 164 frame\n",
      "# matched points:  305 , # inliers:  112\n",
      "processing 165 frame\n",
      "# matched points:  409 , # inliers:  157\n",
      "processing 166 frame\n",
      "# matched points:  345 , # inliers:  134\n",
      "processing 167 frame\n",
      "# matched points:  308 , # inliers:  113\n",
      "processing 168 frame\n",
      "# matched points:  335 , # inliers:  139\n",
      "processing 169 frame\n",
      "# matched points:  364 , # inliers:  143\n",
      "processing 170 frame\n",
      "# matched points:  401 , # inliers:  153\n",
      "processing 171 frame\n",
      "# matched points:  403 , # inliers:  142\n",
      "processing 172 frame\n",
      "# matched points:  357 , # inliers:  150\n",
      "processing 173 frame\n",
      "# matched points:  371 , # inliers:  145\n",
      "processing 174 frame\n",
      "# matched points:  387 , # inliers:  164\n",
      "processing 175 frame\n",
      "# matched points:  399 , # inliers:  134\n",
      "processing 176 frame\n",
      "# matched points:  412 , # inliers:  133\n",
      "processing 177 frame\n",
      "# matched points:  571 , # inliers:  252\n",
      "processing 178 frame\n",
      "# matched points:  487 , # inliers:  185\n",
      "processing 179 frame\n",
      "# matched points:  453 , # inliers:  189\n",
      "processing 180 frame\n",
      "# matched points:  469 , # inliers:  196\n",
      "processing 181 frame\n",
      "# matched points:  373 , # inliers:  132\n",
      "processing 182 frame\n",
      "# matched points:  336 , # inliers:  113\n",
      "processing 183 frame\n",
      "# matched points:  403 , # inliers:  160\n",
      "processing 184 frame\n",
      "# matched points:  380 , # inliers:  126\n",
      "processing 185 frame\n",
      "# matched points:  358 , # inliers:  132\n",
      "processing 186 frame\n",
      "# matched points:  403 , # inliers:  143\n",
      "processing 187 frame\n",
      "# matched points:  378 , # inliers:  137\n",
      "processing 188 frame\n",
      "# matched points:  365 , # inliers:  134\n",
      "processing 189 frame\n",
      "# matched points:  381 , # inliers:  142\n",
      "processing 190 frame\n",
      "# matched points:  430 , # inliers:  180\n",
      "processing 191 frame\n",
      "# matched points:  325 , # inliers:  110\n",
      "processing 192 frame\n",
      "# matched points:  355 , # inliers:  131\n",
      "processing 193 frame\n",
      "# matched points:  388 , # inliers:  136\n",
      "processing 194 frame\n",
      "# matched points:  360 , # inliers:  120\n",
      "processing 195 frame\n",
      "# matched points:  367 , # inliers:  121\n",
      "processing 196 frame\n",
      "# matched points:  307 , # inliers:  103\n",
      "processing 197 frame\n",
      "# matched points:  292 , # inliers:  105\n",
      "processing 198 frame\n",
      "# matched points:  340 , # inliers:  117\n",
      "processing 199 frame\n",
      "# matched points:  352 , # inliers:  120\n"
     ]
    }
   ],
   "source": [
    "error = []\n",
    "vo_est = []\n",
    "cur_t = np.zeros((3,1))\n",
    "cur_R = np.eye(3,3)\n",
    "vo_est_gt = []\n",
    "alpha = 0.3\n",
    "\n",
    "for j in range(1,max_n):\n",
    "    path = \"101/image_\"+str(j)+\".jpg\"\n",
    "    img = cv2.imread(path)\n",
    "    vo.trackImage(img,j)\n",
    "    cv2.imwrite(\"test\"+str(j)+\".jpg\", vo.draw_img)\n",
    "    kps1 = vo.track_result.kps_ref_matched #x ,y \n",
    "    kps2=  vo.track_result.kps_cur_matched\n",
    "\n",
    "    kps1_ = []\n",
    "    for i in kps1:\n",
    "        kps1_.append([i[1],i[0]])\n",
    "    kps2_ = []\n",
    "    for i in kps2:\n",
    "        kps2_.append([i[1],i[0]])\n",
    "    kps1_ = np.array(kps1_) #y, x\n",
    "    kps2_ = np.array(kps2_)\n",
    "    \n",
    "    xyz1, idx1 = cam.unproject_points_z(kps1_, depth[j-1])\n",
    "    xyz2, idx2 = cam.unproject_points_z(kps2_, depth[j])\n",
    "    \n",
    "    xyz1 = np.array(xyz1, np.float64)\n",
    "    kps2_d = np.array(np.delete(kps2,idx1, axis=0),np.float32)\n",
    "    \n",
    "    _, r, t, inliers = cv2.solvePnPRansac( xyz1, kps2_d, cam.K, cam.D)\n",
    "    \n",
    "    vo_est.append((r,t))\n",
    "    \n",
    "    t = t[::-1]*-1\n",
    "    cur_t = cur_t + t\n",
    "    \n",
    "    err = [a_i - b_i for a_i, b_i in zip(cur_t, gt_t[j])]\n",
    "    error.append(err)\n",
    "    err_sum = sum([abs(i) for i in err])\n",
    "    if err_sum>error_threshold:\n",
    "        alpha = alpha/(err_sum/error_threshold)\n",
    "    pose = [e*alpha + t for e, t in zip(err, gt_t[j])]\n",
    "    cur_t = pose\n",
    "    vo_est_gt.append(pose)\n",
    "    alpha = 0.3\n",
    "    \n",
    "    \n",
    "    "
   ]
  },
  {
   "cell_type": "code",
   "execution_count": 396,
   "metadata": {},
   "outputs": [
    {
     "data": {
      "text/plain": [
       "array([-1.324, -0.656,  0.   ])"
      ]
     },
     "execution_count": 396,
     "metadata": {},
     "output_type": "execute_result"
    }
   ],
   "source": [
    "gt_t[max_n-1]"
   ]
  },
  {
   "cell_type": "code",
   "execution_count": 397,
   "metadata": {},
   "outputs": [
    {
     "data": {
      "text/plain": [
       "[array([-1.29675129]), array([-0.65603535]), array([-0.00515232])]"
      ]
     },
     "execution_count": 397,
     "metadata": {},
     "output_type": "execute_result"
    }
   ],
   "source": [
    "vo_est_gt[-1]"
   ]
  },
  {
   "cell_type": "code",
   "execution_count": 378,
   "metadata": {},
   "outputs": [
    {
     "data": {
      "text/plain": [
       "2.4801340800000005"
      ]
     },
     "execution_count": 378,
     "metadata": {},
     "output_type": "execute_result"
    }
   ],
   "source": [
    "eee"
   ]
  },
  {
   "cell_type": "code",
   "execution_count": 398,
   "metadata": {},
   "outputs": [],
   "source": [
    "x = []\n",
    "z = []\n",
    "\n",
    "x_mo = []\n",
    "z_mo = []\n",
    "\n",
    "for i in vo_est_gt:\n",
    "    x.append(i[1])\n",
    "    z.append(i[0])\n",
    "\n",
    "for j in gt_t[:max_n]:\n",
    "    x_mo.append(j[1])\n",
    "    z_mo.append(j[0])"
   ]
  },
  {
   "cell_type": "code",
   "execution_count": 399,
   "metadata": {},
   "outputs": [
    {
     "data": {
      "image/png": "[encoded data removed]",
      "text/plain": [
       "<Figure size 432x288 with 1 Axes>"
      ]
     },
     "metadata": {
      "needs_background": "light"
     },
     "output_type": "display_data"
    }
   ],
   "source": [
    "plt.plot(x,z,label=\"vo_est\")\n",
    "plt.plot(x_mo,z_mo,label=\"mo\")\n",
    "plt.title('VO+MO est vs MO est ')\n",
    "plt.xlabel('x - axis')\n",
    "plt.ylabel('z - axis')\n",
    "plt.legend()\n",
    "plt.show()"
   ]
  },
  {
   "cell_type": "code",
   "execution_count": null,
   "metadata": {},
   "outputs": [],
   "source": []
  },
  {
   "cell_type": "code",
   "execution_count": null,
   "metadata": {},
   "outputs": [],
   "source": []
  },
  {
   "cell_type": "code",
   "execution_count": 345,
   "metadata": {},
   "outputs": [
    {
     "name": "stdout",
     "output_type": "stream",
     "text": [
      "processing first frame\n"
     ]
    }
   ],
   "source": [
    "path = \"101/image_57.jpg\"\n",
    "img = cv2.imread(path)\n",
    "vo.trackImage(img,2)"
   ]
  },
  {
   "cell_type": "code",
   "execution_count": 355,
   "metadata": {},
   "outputs": [
    {
     "name": "stdout",
     "output_type": "stream",
     "text": [
      "processing 2 frame\n",
      "# matched points:  224 , # inliers:  86\n"
     ]
    }
   ],
   "source": [
    "path = \"101/image_58.jpg\"\n",
    "img = cv2.imread(path)\n",
    "vo.trackImage(img,2)"
   ]
  },
  {
   "cell_type": "code",
   "execution_count": 356,
   "metadata": {},
   "outputs": [
    {
     "data": {
      "text/plain": [
       "True"
      ]
     },
     "execution_count": 356,
     "metadata": {},
     "output_type": "execute_result"
    }
   ],
   "source": [
    "cv2.imwrite(\"test3.jpg\", vo.draw_img)"
   ]
  },
  {
   "cell_type": "code",
   "execution_count": 357,
   "metadata": {},
   "outputs": [],
   "source": [
    "kps1 = vo.track_result.kps_ref_matched #x ,y \n",
    "kps2=  vo.track_result.kps_cur_matched\n",
    "\n",
    "kps1_ = []\n",
    "for i in kps1:\n",
    "    kps1_.append([i[1],i[0]])\n",
    "kps2_ = []\n",
    "for i in kps2:\n",
    "    kps2_.append([i[1],i[0]])\n",
    "kps1_ = np.array(kps1_) #y, x\n",
    "kps2_ = np.array(kps2_)"
   ]
  },
  {
   "cell_type": "code",
   "execution_count": 358,
   "metadata": {},
   "outputs": [],
   "source": [
    "xyz1, idx1 = cam.unproject_points_z(kps1_, depth[57])\n",
    "xyz2, idx2 = cam.unproject_points_z(kps2_, depth[58])"
   ]
  },
  {
   "cell_type": "code",
   "execution_count": 359,
   "metadata": {},
   "outputs": [],
   "source": [
    "x=[]\n",
    "y=[]\n",
    "z=[]\n",
    "for a in vo_est_gt:\n",
    "    z.append(a[0])\n",
    "    x.append(a[1])\n",
    "    y.append(a[2])"
   ]
  },
  {
   "cell_type": "code",
   "execution_count": 360,
   "metadata": {},
   "outputs": [],
   "source": [
    "xyz1 = np.array(xyz1, np.float64)"
   ]
  },
  {
   "cell_type": "code",
   "execution_count": 361,
   "metadata": {},
   "outputs": [],
   "source": [
    "kps2_d = np.array(np.delete(kps2,idx1, axis=0),np.float32)"
   ]
  },
  {
   "cell_type": "code",
   "execution_count": 340,
   "metadata": {},
   "outputs": [
    {
     "data": {
      "image/png": "[encoded data removed]",
      "text/plain": [
       "<Figure size 432x288 with 1 Axes>"
      ]
     },
     "metadata": {
      "needs_background": "light"
     },
     "output_type": "display_data"
    }
   ],
   "source": [
    "fig = plt.figure()\n",
    "ax = fig.add_subplot(111, projection='3d')\n",
    "\n",
    "ax.scatter(x, y, z, c='r', marker='o')\n",
    "\n",
    "ax.set_xlabel('x Label')\n",
    "ax.set_ylabel('y Label')\n",
    "ax.set_zlabel('z Label')\n",
    "\n",
    "plt.show()"
   ]
  },
  {
   "cell_type": "code",
   "execution_count": 270,
   "metadata": {},
   "outputs": [
    {
     "data": {
      "image/png": "[encoded data removed]",
      "text/plain": [
       "<Figure size 432x288 with 1 Axes>"
      ]
     },
     "metadata": {
      "needs_background": "light"
     },
     "output_type": "display_data"
    }
   ],
   "source": [
    "fig = plt.figure()\n",
    "ax = fig.add_subplot(111, projection='3d')\n",
    "\n",
    "ax.scatter(x, y, z, c='r', marker='o')\n",
    "\n",
    "ax.set_xlabel('x Label')\n",
    "ax.set_ylabel('y Label')\n",
    "ax.set_zlabel('z Label')\n",
    "\n",
    "plt.show()"
   ]
  },
  {
   "cell_type": "code",
   "execution_count": 341,
   "metadata": {},
   "outputs": [],
   "source": [
    "x=[]\n",
    "y=[]\n",
    "z=[]\n",
    "for a in xyz2:\n",
    "    x.append(a[0])\n",
    "    y.append(a[1])\n",
    "    z.append(a[2])"
   ]
  },
  {
   "cell_type": "code",
   "execution_count": 135,
   "metadata": {},
   "outputs": [
    {
     "data": {
      "image/png": "[encoded data removed]",
      "text/plain": [
       "<Figure size 432x288 with 1 Axes>"
      ]
     },
     "metadata": {
      "needs_background": "light"
     },
     "output_type": "display_data"
    }
   ],
   "source": [
    "fig = plt.figure()\n",
    "ax = fig.add_subplot(111, projection='3d')\n",
    "\n",
    "ax.scatter(x, y, z, c='r', marker='o')\n",
    "\n",
    "ax.set_xlabel('x Label')\n",
    "ax.set_ylabel('y Label')\n",
    "ax.set_zlabel('z Label')\n",
    "\n",
    "plt.show()"
   ]
  },
  {
   "cell_type": "code",
   "execution_count": 362,
   "metadata": {},
   "outputs": [],
   "source": [
    "_, r, t, i = cv2.solvePnPRansac( xyz1, kps2_d, cam.K, cam.D)"
   ]
  },
  {
   "cell_type": "code",
   "execution_count": 363,
   "metadata": {},
   "outputs": [
    {
     "data": {
      "text/plain": [
       "array([[ 0.2164832 ],\n",
       "       [-0.26433402],\n",
       "       [-2.02037737]])"
      ]
     },
     "execution_count": 363,
     "metadata": {},
     "output_type": "execute_result"
    }
   ],
   "source": [
    "t"
   ]
  },
  {
   "cell_type": "code",
   "execution_count": 214,
   "metadata": {},
   "outputs": [],
   "source": [
    "t5 = t5+np.zeros((3,1))"
   ]
  },
  {
   "cell_type": "code",
   "execution_count": 189,
   "metadata": {},
   "outputs": [
    {
     "data": {
      "text/plain": [
       "array([0.064, 0.004, 0.   ])"
      ]
     },
     "execution_count": 189,
     "metadata": {},
     "output_type": "execute_result"
    }
   ],
   "source": [
    "gt_t[6]"
   ]
  },
  {
   "cell_type": "code",
   "execution_count": 208,
   "metadata": {},
   "outputs": [
    {
     "data": {
      "text/plain": [
       "array([[ 5.99125972e-02],\n",
       "       [ 1.88985754e-04],\n",
       "       [-8.95915196e-05]])"
      ]
     },
     "execution_count": 208,
     "metadata": {},
     "output_type": "execute_result"
    }
   ],
   "source": [
    "t5[::-1]*-1"
   ]
  },
  {
   "cell_type": "code",
   "execution_count": 209,
   "metadata": {},
   "outputs": [],
   "source": [
    "err= [a_i - b_i for a_i, b_i in zip(t5[::-1]*-1, gt_t[6])]"
   ]
  },
  {
   "cell_type": "code",
   "execution_count": 210,
   "metadata": {},
   "outputs": [
    {
     "data": {
      "text/plain": [
       "[array([-0.0040874]), array([-0.00381101]), array([-8.95915196e-05])]"
      ]
     },
     "execution_count": 210,
     "metadata": {},
     "output_type": "execute_result"
    }
   ],
   "source": [
    "err"
   ]
  },
  {
   "cell_type": "code",
   "execution_count": 200,
   "metadata": {},
   "outputs": [
    {
     "data": {
      "text/plain": [
       "array([0.064, 0.004, 0.   ])"
      ]
     },
     "execution_count": 200,
     "metadata": {},
     "output_type": "execute_result"
    }
   ],
   "source": [
    "gt_t[6]"
   ]
  },
  {
   "cell_type": "code",
   "execution_count": 211,
   "metadata": {},
   "outputs": [],
   "source": [
    "gt6 =[a_i*0.3 + b_i for a_i, b_i in zip(err, gt6)]"
   ]
  },
  {
   "cell_type": "code",
   "execution_count": 212,
   "metadata": {},
   "outputs": [
    {
     "data": {
      "text/plain": [
       "[array([0.06277378]), array([0.0028567]), array([-2.68774559e-05])]"
      ]
     },
     "execution_count": 212,
     "metadata": {},
     "output_type": "execute_result"
    }
   ],
   "source": [
    "gt6"
   ]
  },
  {
   "cell_type": "code",
   "execution_count": 19,
   "metadata": {},
   "outputs": [],
   "source": [
    "im = vo.draw_img"
   ]
  },
  {
   "cell_type": "code",
   "execution_count": 20,
   "metadata": {},
   "outputs": [
    {
     "data": {
      "text/plain": [
       "True"
      ]
     },
     "execution_count": 20,
     "metadata": {},
     "output_type": "execute_result"
    }
   ],
   "source": [
    "cv2.imwrite(\"ii.jpg\",im)"
   ]
  },
  {
   "cell_type": "code",
   "execution_count": 110,
   "metadata": {},
   "outputs": [
    {
     "name": "stdout",
     "output_type": "stream",
     "text": [
      "processing 2 frame\n",
      "# matched points:  505 , # inliers:  493\n"
     ]
    }
   ],
   "source": [
    "path = \"101/image_2.jpg\"\n",
    "img = cv2.imread(path)\n",
    "vo.trackImage(img,2)"
   ]
  },
  {
   "cell_type": "code",
   "execution_count": 149,
   "metadata": {},
   "outputs": [
    {
     "name": "stdout",
     "output_type": "stream",
     "text": [
      "processing first frame\n",
      "processing 1 frame\n",
      "# matched points:  538 , # inliers:  530\n",
      "processing 2 frame\n",
      "# matched points:  505 , # inliers:  493\n",
      "processing 3 frame\n",
      "# matched points:  469 , # inliers:  453\n",
      "processing 4 frame\n",
      "# matched points:  516 , # inliers:  504\n"
     ]
    }
   ],
   "source": [
    "for i in range(5):\n",
    "    path = \"101/image_\"+str(i)+\".jpg\"\n",
    "    img = cv2.imread(path)\n",
    "    vo.trackImage(img,i)"
   ]
  },
  {
   "cell_type": "code",
   "execution_count": 88,
   "metadata": {},
   "outputs": [],
   "source": [
    "p=vo.trans_est_ref"
   ]
  },
  {
   "cell_type": "code",
   "execution_count": 90,
   "metadata": {},
   "outputs": [],
   "source": [
    "p=np.round(np.reshape(p, (66,3)),2)"
   ]
  },
  {
   "cell_type": "code",
   "execution_count": 91,
   "metadata": {},
   "outputs": [],
   "source": [
    "p=p/10"
   ]
  },
  {
   "cell_type": "code",
   "execution_count": null,
   "metadata": {},
   "outputs": [],
   "source": []
  },
  {
   "cell_type": "code",
   "execution_count": null,
   "metadata": {},
   "outputs": [],
   "source": []
  },
  {
   "cell_type": "code",
   "execution_count": null,
   "metadata": {},
   "outputs": [],
   "source": []
  },
  {
   "cell_type": "code",
   "execution_count": 5,
   "metadata": {},
   "outputs": [
    {
     "name": "stdout",
     "output_type": "stream",
     "text": [
      "0\n",
      "processing first frame\n",
      "1\n",
      "processing 1 frame\n",
      "# matched points:  538 , # inliers:  530\n",
      "2\n",
      "processing 2 frame\n",
      "# matched points:  505 , # inliers:  493\n",
      "3\n",
      "processing 3 frame\n",
      "# matched points:  469 , # inliers:  453\n",
      "4\n",
      "processing 4 frame\n",
      "# matched points:  516 , # inliers:  504\n",
      "5\n",
      "processing 5 frame\n",
      "# matched points:  509 , # inliers:  493\n",
      "6\n",
      "processing 6 frame\n",
      "# matched points:  495 , # inliers:  476\n",
      "7\n",
      "processing 7 frame\n",
      "# matched points:  277 , # inliers:  215\n",
      "8\n",
      "processing 8 frame\n",
      "# matched points:  308 , # inliers:  224\n",
      "9\n",
      "processing 9 frame\n",
      "# matched points:  297 , # inliers:  193\n",
      "10\n",
      "processing 10 frame\n",
      "# matched points:  347 , # inliers:  286\n",
      "11\n",
      "processing 11 frame\n",
      "# matched points:  316 , # inliers:  242\n",
      "12\n",
      "processing 12 frame\n",
      "# matched points:  271 , # inliers:  194\n",
      "13\n",
      "processing 13 frame\n",
      "# matched points:  322 , # inliers:  251\n",
      "14\n",
      "processing 14 frame\n",
      "# matched points:  312 , # inliers:  240\n",
      "15\n",
      "processing 15 frame\n",
      "# matched points:  307 , # inliers:  226\n",
      "16\n",
      "processing 16 frame\n",
      "# matched points:  269 , # inliers:  183\n",
      "17\n",
      "processing 17 frame\n",
      "# matched points:  268 , # inliers:  198\n",
      "18\n",
      "processing 18 frame\n",
      "# matched points:  277 , # inliers:  203\n",
      "19\n",
      "processing 19 frame\n",
      "# matched points:  266 , # inliers:  209\n",
      "20\n",
      "processing 20 frame\n",
      "# matched points:  287 , # inliers:  234\n",
      "21\n",
      "processing 21 frame\n",
      "# matched points:  269 , # inliers:  213\n",
      "22\n",
      "processing 22 frame\n",
      "# matched points:  286 , # inliers:  216\n",
      "23\n",
      "processing 23 frame\n",
      "# matched points:  273 , # inliers:  205\n",
      "24\n",
      "processing 24 frame\n",
      "# matched points:  261 , # inliers:  192\n",
      "25\n",
      "processing 25 frame\n",
      "# matched points:  318 , # inliers:  244\n",
      "26\n",
      "processing 26 frame\n",
      "# matched points:  270 , # inliers:  222\n",
      "27\n",
      "processing 27 frame\n",
      "# matched points:  311 , # inliers:  241\n",
      "28\n",
      "processing 28 frame\n",
      "# matched points:  258 , # inliers:  161\n",
      "29\n",
      "processing 29 frame\n",
      "# matched points:  289 , # inliers:  233\n",
      "30\n",
      "processing 30 frame\n",
      "# matched points:  243 , # inliers:  162\n",
      "31\n",
      "processing 31 frame\n",
      "# matched points:  289 , # inliers:  248\n",
      "32\n",
      "processing 32 frame\n",
      "# matched points:  252 , # inliers:  161\n",
      "33\n",
      "processing 33 frame\n",
      "# matched points:  268 , # inliers:  187\n",
      "34\n",
      "processing 34 frame\n",
      "# matched points:  266 , # inliers:  184\n",
      "35\n",
      "processing 35 frame\n",
      "# matched points:  248 , # inliers:  189\n",
      "36\n",
      "processing 36 frame\n",
      "# matched points:  271 , # inliers:  198\n",
      "37\n",
      "processing 37 frame\n",
      "# matched points:  278 , # inliers:  200\n",
      "38\n",
      "processing 38 frame\n",
      "# matched points:  275 , # inliers:  196\n",
      "39\n",
      "processing 39 frame\n",
      "# matched points:  248 , # inliers:  185\n",
      "40\n",
      "processing 40 frame\n",
      "# matched points:  288 , # inliers:  217\n",
      "41\n",
      "processing 41 frame\n",
      "# matched points:  226 , # inliers:  160\n",
      "42\n",
      "processing 42 frame\n",
      "# matched points:  276 , # inliers:  201\n",
      "43\n",
      "processing 43 frame\n",
      "# matched points:  239 , # inliers:  177\n",
      "44\n",
      "processing 44 frame\n",
      "# matched points:  228 , # inliers:  166\n",
      "45\n",
      "processing 45 frame\n",
      "# matched points:  263 , # inliers:  195\n",
      "46\n",
      "processing 46 frame\n",
      "# matched points:  257 , # inliers:  189\n",
      "47\n",
      "processing 47 frame\n",
      "# matched points:  294 , # inliers:  211\n",
      "48\n",
      "processing 48 frame\n",
      "# matched points:  248 , # inliers:  175\n",
      "49\n",
      "processing 49 frame\n",
      "# matched points:  251 , # inliers:  179\n",
      "50\n",
      "processing 50 frame\n",
      "# matched points:  284 , # inliers:  227\n",
      "51\n",
      "processing 51 frame\n",
      "# matched points:  268 , # inliers:  185\n",
      "52\n",
      "processing 52 frame\n",
      "# matched points:  242 , # inliers:  166\n",
      "53\n",
      "processing 53 frame\n",
      "# matched points:  247 , # inliers:  179\n",
      "54\n",
      "processing 54 frame\n",
      "# matched points:  252 , # inliers:  156\n",
      "55\n",
      "processing 55 frame\n",
      "# matched points:  226 , # inliers:  158\n",
      "56\n",
      "processing 56 frame\n",
      "# matched points:  264 , # inliers:  187\n",
      "57\n",
      "processing 57 frame\n",
      "# matched points:  237 , # inliers:  164\n",
      "58\n",
      "processing 58 frame\n",
      "# matched points:  222 , # inliers:  156\n",
      "59\n",
      "processing 59 frame\n",
      "# matched points:  230 , # inliers:  158\n",
      "60\n",
      "processing 60 frame\n",
      "# matched points:  256 , # inliers:  165\n",
      "61\n",
      "processing 61 frame\n",
      "# matched points:  232 , # inliers:  144\n",
      "62\n",
      "processing 62 frame\n",
      "# matched points:  221 , # inliers:  145\n",
      "63\n",
      "processing 63 frame\n",
      "# matched points:  229 , # inliers:  156\n",
      "64\n",
      "processing 64 frame\n",
      "# matched points:  209 , # inliers:  127\n",
      "65\n",
      "processing 65 frame\n",
      "# matched points:  227 , # inliers:  141\n",
      "66\n",
      "processing 66 frame\n",
      "# matched points:  230 , # inliers:  175\n",
      "67\n",
      "processing 67 frame\n",
      "# matched points:  196 , # inliers:  139\n",
      "68\n",
      "processing 68 frame\n",
      "# matched points:  188 , # inliers:  143\n",
      "69\n",
      "processing 69 frame\n",
      "# matched points:  227 , # inliers:  184\n",
      "70\n",
      "processing 70 frame\n",
      "# matched points:  178 , # inliers:  51\n",
      "71\n",
      "processing 71 frame\n",
      "# matched points:  154 , # inliers:  43\n",
      "72\n",
      "processing 72 frame\n",
      "# matched points:  129 , # inliers:  76\n",
      "73\n",
      "processing 73 frame\n",
      "# matched points:  224 , # inliers:  100\n",
      "74\n",
      "processing 74 frame\n",
      "# matched points:  329 , # inliers:  110\n",
      "75\n",
      "processing 75 frame\n",
      "# matched points:  425 , # inliers:  124\n",
      "76\n",
      "processing 76 frame\n",
      "# matched points:  475 , # inliers:  159\n",
      "77\n",
      "processing 77 frame\n",
      "# matched points:  475 , # inliers:  149\n",
      "78\n",
      "processing 78 frame\n",
      "# matched points:  550 , # inliers:  203\n",
      "79\n",
      "processing 79 frame\n",
      "# matched points:  395 , # inliers:  166\n",
      "80\n",
      "processing 80 frame\n",
      "# matched points:  616 , # inliers:  493\n",
      "81\n",
      "processing 81 frame\n",
      "# matched points:  580 , # inliers:  325\n",
      "82\n",
      "processing 82 frame\n",
      "# matched points:  592 , # inliers:  280\n",
      "83\n",
      "processing 83 frame\n",
      "# matched points:  577 , # inliers:  279\n",
      "84\n",
      "processing 84 frame\n",
      "# matched points:  579 , # inliers:  304\n",
      "85\n",
      "processing 85 frame\n",
      "# matched points:  578 , # inliers:  328\n",
      "86\n",
      "processing 86 frame\n",
      "# matched points:  567 , # inliers:  286\n",
      "87\n",
      "processing 87 frame\n",
      "# matched points:  538 , # inliers:  283\n",
      "88\n",
      "processing 88 frame\n",
      "# matched points:  537 , # inliers:  279\n",
      "89\n",
      "processing 89 frame\n",
      "# matched points:  568 , # inliers:  320\n",
      "90\n",
      "processing 90 frame\n",
      "# matched points:  540 , # inliers:  275\n",
      "91\n",
      "processing 91 frame\n",
      "# matched points:  532 , # inliers:  304\n",
      "92\n",
      "processing 92 frame\n",
      "# matched points:  533 , # inliers:  299\n",
      "93\n",
      "processing 93 frame\n",
      "# matched points:  479 , # inliers:  219\n",
      "94\n",
      "processing 94 frame\n",
      "# matched points:  528 , # inliers:  310\n",
      "95\n",
      "processing 95 frame\n",
      "# matched points:  478 , # inliers:  212\n",
      "96\n",
      "processing 96 frame\n",
      "# matched points:  481 , # inliers:  257\n",
      "97\n",
      "processing 97 frame\n",
      "# matched points:  493 , # inliers:  267\n",
      "98\n",
      "processing 98 frame\n",
      "# matched points:  488 , # inliers:  277\n",
      "99\n",
      "processing 99 frame\n",
      "# matched points:  528 , # inliers:  290\n",
      "100\n",
      "processing 100 frame\n",
      "# matched points:  473 , # inliers:  240\n",
      "101\n",
      "processing 101 frame\n",
      "# matched points:  488 , # inliers:  268\n",
      "102\n",
      "processing 102 frame\n",
      "# matched points:  457 , # inliers:  234\n",
      "103\n",
      "processing 103 frame\n",
      "# matched points:  494 , # inliers:  307\n",
      "104\n",
      "processing 104 frame\n",
      "# matched points:  446 , # inliers:  207\n",
      "105\n",
      "processing 105 frame\n",
      "# matched points:  469 , # inliers:  281\n",
      "106\n",
      "processing 106 frame\n",
      "# matched points:  459 , # inliers:  262\n",
      "107\n",
      "processing 107 frame\n",
      "# matched points:  423 , # inliers:  190\n",
      "108\n",
      "processing 108 frame\n",
      "# matched points:  452 , # inliers:  260\n",
      "109\n",
      "processing 109 frame\n",
      "# matched points:  396 , # inliers:  181\n",
      "110\n",
      "processing 110 frame\n",
      "# matched points:  411 , # inliers:  227\n",
      "111\n",
      "processing 111 frame\n",
      "# matched points:  365 , # inliers:  173\n",
      "112\n",
      "processing 112 frame\n",
      "# matched points:  359 , # inliers:  158\n",
      "113\n",
      "processing 113 frame\n",
      "# matched points:  358 , # inliers:  198\n",
      "114\n",
      "processing 114 frame\n",
      "# matched points:  353 , # inliers:  183\n",
      "115\n",
      "processing 115 frame\n",
      "# matched points:  328 , # inliers:  142\n",
      "116\n",
      "processing 116 frame\n",
      "# matched points:  356 , # inliers:  214\n",
      "117\n",
      "processing 117 frame\n",
      "# matched points:  329 , # inliers:  143\n",
      "118\n",
      "processing 118 frame\n",
      "# matched points:  321 , # inliers:  153\n",
      "119\n",
      "processing 119 frame\n",
      "# matched points:  340 , # inliers:  154\n",
      "120\n",
      "processing 120 frame\n",
      "# matched points:  351 , # inliers:  192\n",
      "121\n",
      "processing 121 frame\n",
      "# matched points:  316 , # inliers:  173\n",
      "122\n",
      "processing 122 frame\n",
      "# matched points:  144 , # inliers:  54\n",
      "123\n",
      "processing 123 frame\n",
      "# matched points:  79 , # inliers:  29\n",
      "124\n",
      "processing 124 frame\n",
      "# matched points:  114 , # inliers:  38\n",
      "125\n",
      "processing 125 frame\n",
      "# matched points:  153 , # inliers:  54\n",
      "126\n",
      "processing 126 frame\n",
      "# matched points:  337 , # inliers:  110\n",
      "127\n",
      "processing 127 frame\n",
      "# matched points:  434 , # inliers:  119\n",
      "128\n",
      "processing 128 frame\n"
     ]
    },
    {
     "name": "stdout",
     "output_type": "stream",
     "text": [
      "# matched points:  629 , # inliers:  191\n",
      "129\n",
      "processing 129 frame\n",
      "# matched points:  781 , # inliers:  272\n",
      "130\n",
      "processing 130 frame\n",
      "# matched points:  1041 , # inliers:  828\n",
      "131\n",
      "processing 131 frame\n",
      "# matched points:  975 , # inliers:  466\n",
      "132\n",
      "processing 132 frame\n",
      "# matched points:  999 , # inliers:  640\n",
      "133\n",
      "processing 133 frame\n",
      "# matched points:  996 , # inliers:  678\n",
      "134\n",
      "processing 134 frame\n",
      "# matched points:  1016 , # inliers:  688\n",
      "135\n",
      "processing 135 frame\n",
      "# matched points:  1003 , # inliers:  673\n",
      "136\n",
      "processing 136 frame\n",
      "# matched points:  1022 , # inliers:  711\n",
      "137\n",
      "processing 137 frame\n",
      "# matched points:  1052 , # inliers:  750\n",
      "138\n",
      "processing 138 frame\n",
      "# matched points:  1016 , # inliers:  633\n",
      "139\n",
      "processing 139 frame\n",
      "# matched points:  1041 , # inliers:  732\n",
      "140\n",
      "processing 140 frame\n",
      "# matched points:  1017 , # inliers:  663\n",
      "141\n",
      "processing 141 frame\n",
      "# matched points:  1022 , # inliers:  656\n",
      "142\n",
      "processing 142 frame\n",
      "# matched points:  1001 , # inliers:  697\n",
      "143\n",
      "processing 143 frame\n",
      "# matched points:  1004 , # inliers:  617\n",
      "144\n",
      "processing 144 frame\n",
      "# matched points:  1026 , # inliers:  707\n",
      "145\n",
      "processing 145 frame\n",
      "# matched points:  1005 , # inliers:  681\n",
      "146\n",
      "processing 146 frame\n",
      "# matched points:  1018 , # inliers:  625\n",
      "147\n",
      "processing 147 frame\n",
      "# matched points:  1050 , # inliers:  722\n",
      "148\n",
      "processing 148 frame\n",
      "# matched points:  1009 , # inliers:  635\n",
      "149\n",
      "processing 149 frame\n",
      "# matched points:  1009 , # inliers:  721\n",
      "150\n",
      "processing 150 frame\n",
      "# matched points:  958 , # inliers:  616\n",
      "151\n",
      "processing 151 frame\n",
      "# matched points:  997 , # inliers:  670\n",
      "152\n",
      "processing 152 frame\n",
      "# matched points:  969 , # inliers:  652\n",
      "153\n",
      "processing 153 frame\n",
      "# matched points:  966 , # inliers:  615\n",
      "154\n",
      "processing 154 frame\n",
      "# matched points:  955 , # inliers:  625\n",
      "155\n",
      "processing 155 frame\n",
      "# matched points:  926 , # inliers:  618\n",
      "156\n",
      "processing 156 frame\n",
      "# matched points:  1002 , # inliers:  666\n",
      "157\n",
      "processing 157 frame\n",
      "# matched points:  963 , # inliers:  631\n",
      "158\n",
      "processing 158 frame\n",
      "# matched points:  966 , # inliers:  636\n",
      "159\n",
      "processing 159 frame\n",
      "# matched points:  957 , # inliers:  598\n",
      "160\n",
      "processing 160 frame\n",
      "# matched points:  980 , # inliers:  678\n",
      "161\n",
      "processing 161 frame\n",
      "# matched points:  933 , # inliers:  566\n",
      "162\n",
      "processing 162 frame\n",
      "# matched points:  960 , # inliers:  668\n",
      "163\n",
      "processing 163 frame\n",
      "# matched points:  935 , # inliers:  560\n",
      "164\n",
      "processing 164 frame\n",
      "# matched points:  924 , # inliers:  608\n",
      "165\n",
      "processing 165 frame\n",
      "# matched points:  929 , # inliers:  563\n",
      "166\n",
      "processing 166 frame\n",
      "# matched points:  924 , # inliers:  592\n",
      "167\n",
      "processing 167 frame\n",
      "# matched points:  911 , # inliers:  558\n",
      "168\n",
      "processing 168 frame\n",
      "# matched points:  918 , # inliers:  618\n",
      "169\n",
      "processing 169 frame\n",
      "# matched points:  921 , # inliers:  577\n",
      "170\n",
      "processing 170 frame\n",
      "# matched points:  923 , # inliers:  511\n",
      "171\n",
      "processing 171 frame\n",
      "# matched points:  881 , # inliers:  512\n",
      "172\n",
      "processing 172 frame\n",
      "# matched points:  908 , # inliers:  599\n",
      "173\n",
      "processing 173 frame\n",
      "# matched points:  909 , # inliers:  534\n",
      "174\n",
      "processing 174 frame\n",
      "# matched points:  907 , # inliers:  549\n",
      "175\n",
      "processing 175 frame\n",
      "# matched points:  877 , # inliers:  512\n",
      "176\n",
      "processing 176 frame\n",
      "# matched points:  880 , # inliers:  527\n",
      "177\n",
      "processing 177 frame\n",
      "# matched points:  868 , # inliers:  526\n",
      "178\n",
      "processing 178 frame\n",
      "# matched points:  872 , # inliers:  572\n",
      "179\n",
      "processing 179 frame\n",
      "# matched points:  841 , # inliers:  480\n",
      "180\n",
      "processing 180 frame\n",
      "# matched points:  884 , # inliers:  514\n",
      "181\n",
      "processing 181 frame\n",
      "# matched points:  837 , # inliers:  470\n",
      "182\n",
      "processing 182 frame\n",
      "# matched points:  856 , # inliers:  470\n",
      "183\n",
      "processing 183 frame\n",
      "# matched points:  813 , # inliers:  537\n",
      "184\n",
      "processing 184 frame\n",
      "# matched points:  838 , # inliers:  498\n",
      "185\n",
      "processing 185 frame\n",
      "# matched points:  824 , # inliers:  456\n",
      "186\n",
      "processing 186 frame\n",
      "# matched points:  821 , # inliers:  450\n",
      "187\n",
      "processing 187 frame\n",
      "# matched points:  840 , # inliers:  541\n",
      "188\n",
      "processing 188 frame\n",
      "# matched points:  822 , # inliers:  465\n",
      "189\n",
      "processing 189 frame\n",
      "# matched points:  784 , # inliers:  456\n",
      "190\n",
      "processing 190 frame\n",
      "# matched points:  797 , # inliers:  445\n",
      "191\n",
      "processing 191 frame\n",
      "# matched points:  831 , # inliers:  446\n",
      "192\n",
      "processing 192 frame\n",
      "# matched points:  801 , # inliers:  465\n",
      "193\n",
      "processing 193 frame\n",
      "# matched points:  737 , # inliers:  401\n",
      "194\n",
      "processing 194 frame\n",
      "# matched points:  764 , # inliers:  442\n",
      "195\n",
      "processing 195 frame\n",
      "# matched points:  757 , # inliers:  408\n",
      "196\n",
      "processing 196 frame\n",
      "# matched points:  719 , # inliers:  423\n",
      "197\n",
      "processing 197 frame\n",
      "# matched points:  722 , # inliers:  391\n",
      "198\n",
      "processing 198 frame\n",
      "# matched points:  697 , # inliers:  433\n",
      "199\n",
      "processing 199 frame\n",
      "# matched points:  960 , # inliers:  870\n",
      "200\n",
      "processing 200 frame\n",
      "# matched points:  614 , # inliers:  212\n",
      "201\n",
      "processing 201 frame\n",
      "# matched points:  502 , # inliers:  173\n",
      "202\n",
      "processing 202 frame\n",
      "# matched points:  273 , # inliers:  95\n",
      "203\n",
      "processing 203 frame\n",
      "# matched points:  336 , # inliers:  154\n",
      "204\n",
      "processing 204 frame\n",
      "# matched points:  456 , # inliers:  336\n",
      "205\n",
      "processing 205 frame\n",
      "# matched points:  485 , # inliers:  381\n",
      "206\n",
      "processing 206 frame\n",
      "# matched points:  283 , # inliers:  119\n",
      "207\n",
      "processing 207 frame\n",
      "# matched points:  442 , # inliers:  177\n",
      "208\n",
      "processing 208 frame\n",
      "# matched points:  539 , # inliers:  188\n",
      "209\n",
      "processing 209 frame\n",
      "# matched points:  534 , # inliers:  188\n",
      "210\n",
      "processing 210 frame\n",
      "# matched points:  591 , # inliers:  226\n",
      "211\n",
      "processing 211 frame\n",
      "# matched points:  524 , # inliers:  169\n",
      "212\n",
      "processing 212 frame\n",
      "# matched points:  396 , # inliers:  147\n",
      "213\n",
      "processing 213 frame\n",
      "# matched points:  329 , # inliers:  110\n",
      "214\n",
      "processing 214 frame\n",
      "# matched points:  256 , # inliers:  90\n",
      "215\n",
      "processing 215 frame\n",
      "# matched points:  226 , # inliers:  91\n",
      "216\n",
      "processing 216 frame\n",
      "# matched points:  272 , # inliers:  143\n",
      "217\n",
      "processing 217 frame\n",
      "# matched points:  493 , # inliers:  386\n",
      "218\n",
      "processing 218 frame\n",
      "# matched points:  527 , # inliers:  421\n",
      "219\n",
      "processing 219 frame\n",
      "# matched points:  521 , # inliers:  410\n",
      "220\n",
      "processing 220 frame\n",
      "# matched points:  553 , # inliers:  443\n",
      "221\n",
      "processing 221 frame\n",
      "# matched points:  525 , # inliers:  407\n",
      "222\n",
      "processing 222 frame\n",
      "# matched points:  535 , # inliers:  425\n",
      "223\n",
      "processing 223 frame\n",
      "# matched points:  538 , # inliers:  429\n",
      "224\n",
      "processing 224 frame\n",
      "# matched points:  532 , # inliers:  416\n",
      "225\n",
      "processing 225 frame\n",
      "# matched points:  530 , # inliers:  388\n",
      "226\n",
      "processing 226 frame\n",
      "# matched points:  514 , # inliers:  410\n",
      "227\n",
      "processing 227 frame\n",
      "# matched points:  500 , # inliers:  394\n",
      "228\n",
      "processing 228 frame\n",
      "# matched points:  542 , # inliers:  423\n",
      "229\n",
      "processing 229 frame\n",
      "# matched points:  508 , # inliers:  401\n",
      "230\n",
      "processing 230 frame\n",
      "# matched points:  510 , # inliers:  403\n",
      "231\n",
      "processing 231 frame\n",
      "# matched points:  511 , # inliers:  414\n",
      "232\n",
      "processing 232 frame\n",
      "# matched points:  519 , # inliers:  386\n",
      "233\n",
      "processing 233 frame\n",
      "# matched points:  503 , # inliers:  408\n",
      "234\n",
      "processing 234 frame\n",
      "# matched points:  500 , # inliers:  379\n",
      "235\n",
      "processing 235 frame\n",
      "# matched points:  502 , # inliers:  384\n",
      "236\n",
      "processing 236 frame\n",
      "# matched points:  514 , # inliers:  425\n",
      "237\n",
      "processing 237 frame\n",
      "# matched points:  459 , # inliers:  352\n",
      "238\n",
      "processing 238 frame\n",
      "# matched points:  461 , # inliers:  351\n",
      "239\n",
      "processing 239 frame\n",
      "# matched points:  485 , # inliers:  385\n",
      "240\n",
      "processing 240 frame\n",
      "# matched points:  486 , # inliers:  365\n",
      "241\n",
      "processing 241 frame\n",
      "# matched points:  492 , # inliers:  399\n",
      "242\n",
      "processing 242 frame\n",
      "# matched points:  481 , # inliers:  373\n",
      "243\n",
      "processing 243 frame\n",
      "# matched points:  473 , # inliers:  373\n",
      "244\n",
      "processing 244 frame\n",
      "# matched points:  480 , # inliers:  367\n",
      "245\n",
      "processing 245 frame\n",
      "# matched points:  469 , # inliers:  364\n",
      "246\n",
      "processing 246 frame\n",
      "# matched points:  462 , # inliers:  348\n",
      "247\n",
      "processing 247 frame\n",
      "# matched points:  449 , # inliers:  348\n",
      "248\n",
      "processing 248 frame\n",
      "# matched points:  469 , # inliers:  347\n",
      "249\n",
      "processing 249 frame\n",
      "# matched points:  463 , # inliers:  356\n",
      "250\n",
      "processing 250 frame\n",
      "# matched points:  436 , # inliers:  323\n",
      "251\n",
      "processing 251 frame\n",
      "# matched points:  470 , # inliers:  343\n",
      "252\n",
      "processing 252 frame\n"
     ]
    },
    {
     "name": "stdout",
     "output_type": "stream",
     "text": [
      "# matched points:  457 , # inliers:  351\n",
      "253\n",
      "processing 253 frame\n",
      "# matched points:  443 , # inliers:  348\n",
      "254\n",
      "processing 254 frame\n",
      "# matched points:  432 , # inliers:  315\n",
      "255\n",
      "processing 255 frame\n",
      "# matched points:  446 , # inliers:  346\n",
      "256\n",
      "processing 256 frame\n",
      "# matched points:  456 , # inliers:  344\n",
      "257\n",
      "processing 257 frame\n",
      "# matched points:  444 , # inliers:  316\n",
      "258\n",
      "processing 258 frame\n",
      "# matched points:  445 , # inliers:  331\n",
      "259\n",
      "processing 259 frame\n",
      "# matched points:  438 , # inliers:  327\n",
      "260\n",
      "processing 260 frame\n",
      "# matched points:  424 , # inliers:  317\n",
      "261\n",
      "processing 261 frame\n",
      "# matched points:  407 , # inliers:  297\n",
      "262\n",
      "processing 262 frame\n",
      "# matched points:  408 , # inliers:  300\n",
      "263\n",
      "processing 263 frame\n",
      "# matched points:  407 , # inliers:  304\n",
      "264\n",
      "processing 264 frame\n",
      "# matched points:  411 , # inliers:  319\n",
      "265\n",
      "processing 265 frame\n",
      "# matched points:  377 , # inliers:  250\n",
      "266\n",
      "processing 266 frame\n",
      "# matched points:  410 , # inliers:  340\n",
      "267\n",
      "processing 267 frame\n",
      "# matched points:  375 , # inliers:  252\n",
      "268\n",
      "processing 268 frame\n",
      "# matched points:  394 , # inliers:  283\n",
      "269\n",
      "processing 269 frame\n",
      "# matched points:  374 , # inliers:  268\n",
      "270\n",
      "processing 270 frame\n",
      "# matched points:  362 , # inliers:  268\n",
      "271\n",
      "processing 271 frame\n",
      "# matched points:  389 , # inliers:  300\n",
      "272\n",
      "processing 272 frame\n",
      "# matched points:  373 , # inliers:  276\n",
      "273\n",
      "processing 273 frame\n",
      "# matched points:  363 , # inliers:  272\n",
      "274\n",
      "processing 274 frame\n",
      "# matched points:  366 , # inliers:  248\n",
      "275\n",
      "processing 275 frame\n",
      "# matched points:  362 , # inliers:  255\n",
      "276\n",
      "processing 276 frame\n",
      "# matched points:  368 , # inliers:  261\n",
      "277\n",
      "processing 277 frame\n",
      "# matched points:  355 , # inliers:  262\n",
      "278\n",
      "processing 278 frame\n",
      "# matched points:  363 , # inliers:  266\n",
      "279\n",
      "processing 279 frame\n",
      "# matched points:  356 , # inliers:  279\n",
      "280\n",
      "processing 280 frame\n",
      "# matched points:  338 , # inliers:  247\n",
      "281\n",
      "processing 281 frame\n",
      "# matched points:  330 , # inliers:  253\n",
      "282\n",
      "processing 282 frame\n",
      "# matched points:  331 , # inliers:  226\n",
      "283\n",
      "processing 283 frame\n",
      "# matched points:  319 , # inliers:  240\n",
      "284\n",
      "processing 284 frame\n",
      "# matched points:  342 , # inliers:  246\n",
      "285\n",
      "processing 285 frame\n",
      "# matched points:  313 , # inliers:  229\n",
      "286\n",
      "processing 286 frame\n",
      "# matched points:  317 , # inliers:  224\n",
      "287\n",
      "processing 287 frame\n",
      "# matched points:  314 , # inliers:  224\n",
      "288\n",
      "processing 288 frame\n",
      "# matched points:  303 , # inliers:  221\n",
      "289\n",
      "processing 289 frame\n",
      "# matched points:  342 , # inliers:  255\n",
      "290\n",
      "processing 290 frame\n",
      "# matched points:  317 , # inliers:  264\n",
      "291\n",
      "processing 291 frame\n",
      "# matched points:  314 , # inliers:  260\n",
      "292\n",
      "processing 292 frame\n",
      "# matched points:  299 , # inliers:  216\n",
      "293\n",
      "processing 293 frame\n",
      "# matched points:  196 , # inliers:  86\n",
      "294\n",
      "processing 294 frame\n",
      "# matched points:  213 , # inliers:  92\n",
      "295\n",
      "processing 295 frame\n",
      "# matched points:  302 , # inliers:  163\n",
      "296\n",
      "processing 296 frame\n",
      "# matched points:  298 , # inliers:  182\n",
      "297\n",
      "processing 297 frame\n",
      "# matched points:  299 , # inliers:  152\n",
      "298\n",
      "processing 298 frame\n",
      "# matched points:  361 , # inliers:  110\n",
      "299\n",
      "processing 299 frame\n",
      "# matched points:  382 , # inliers:  126\n",
      "time elapsed:  80.04499173164368\n"
     ]
    }
   ],
   "source": [
    "\n",
    "start = time.time()\n",
    "for i in range(300):\n",
    "    print(i)\n",
    "    path = \"101/image_\"+str(i)+\".jpg\"\n",
    "    img = cv2.imread(path)\n",
    "    if img is not None:\n",
    "        vo.trackImage(img, i)\n",
    "    else: print(\"image is not read\")\n",
    "end = time.time()\n",
    "\n",
    "print(\"time elapsed: \", end-start)\n",
    "    "
   ]
  },
  {
   "cell_type": "code",
   "execution_count": 53,
   "metadata": {},
   "outputs": [],
   "source": [
    "p = vo.trans_est_ref2"
   ]
  },
  {
   "cell_type": "code",
   "execution_count": 30,
   "metadata": {},
   "outputs": [],
   "source": [
    "t_xzy = []\n",
    "\n",
    "for i in range(len(t)):\n",
    "    t_xzy.append([t[i][0],t[i][2],t[i][1]])"
   ]
  },
  {
   "cell_type": "code",
   "execution_count": 51,
   "metadata": {},
   "outputs": [
    {
     "data": {
      "text/plain": [
       "array([[ 0.   ,  0.   ,  0.   ],\n",
       "       [ 0.   ,  0.   ,  0.   ],\n",
       "       [ 0.   ,  0.   ,  0.   ],\n",
       "       [ 0.   ,  0.   ,  0.   ],\n",
       "       [ 0.   ,  0.   ,  0.   ],\n",
       "       [ 0.   ,  0.   ,  0.   ],\n",
       "       [ 0.   ,  0.   ,  0.   ],\n",
       "       [ 0.019, -0.003,  0.   ],\n",
       "       [ 0.039, -0.007,  0.   ],\n",
       "       [ 0.06 , -0.01 ,  0.   ],\n",
       "       [ 0.077, -0.013,  0.   ],\n",
       "       [ 0.101, -0.017,  0.   ],\n",
       "       [ 0.119, -0.02 ,  0.   ],\n",
       "       [ 0.136, -0.023,  0.   ],\n",
       "       [ 0.156, -0.026,  0.   ],\n",
       "       [ 0.178, -0.03 ,  0.   ],\n",
       "       [ 0.198, -0.034,  0.   ],\n",
       "       [ 0.217, -0.037,  0.   ],\n",
       "       [ 0.238, -0.041,  0.   ],\n",
       "       [ 0.257, -0.044,  0.   ],\n",
       "       [ 0.277, -0.047,  0.   ],\n",
       "       [ 0.296, -0.051,  0.   ],\n",
       "       [ 0.316, -0.054,  0.   ],\n",
       "       [ 0.337, -0.058,  0.   ],\n",
       "       [ 0.358, -0.062,  0.   ],\n",
       "       [ 0.374, -0.065,  0.   ],\n",
       "       [ 0.396, -0.069,  0.   ],\n",
       "       [ 0.411, -0.071,  0.   ],\n",
       "       [ 0.437, -0.076,  0.   ],\n",
       "       [ 0.456, -0.079,  0.   ],\n",
       "       [ 0.477, -0.083,  0.   ],\n",
       "       [ 0.492, -0.086,  0.   ],\n",
       "       [ 0.516, -0.09 ,  0.   ],\n",
       "       [ 0.536, -0.094,  0.   ],\n",
       "       [ 0.556, -0.098,  0.   ],\n",
       "       [ 0.575, -0.101,  0.   ],\n",
       "       [ 0.596, -0.105,  0.   ],\n",
       "       [ 0.615, -0.109,  0.   ],\n",
       "       [ 0.636, -0.113,  0.   ],\n",
       "       [ 0.655, -0.116,  0.   ],\n",
       "       [ 0.675, -0.12 ,  0.   ],\n",
       "       [ 0.695, -0.124,  0.   ],\n",
       "       [ 0.715, -0.128,  0.   ],\n",
       "       [ 0.735, -0.131,  0.   ],\n",
       "       [ 0.754, -0.135,  0.   ],\n",
       "       [ 0.774, -0.139,  0.   ],\n",
       "       [ 0.794, -0.143,  0.   ],\n",
       "       [ 0.812, -0.146,  0.   ],\n",
       "       [ 0.834, -0.151,  0.   ],\n",
       "       [ 0.855, -0.155,  0.   ],\n",
       "       [ 0.87 , -0.158,  0.   ],\n",
       "       [ 0.892, -0.162,  0.   ],\n",
       "       [ 0.914, -0.166,  0.   ],\n",
       "       [ 0.932, -0.17 ,  0.   ],\n",
       "       [ 0.953, -0.174,  0.   ],\n",
       "       [ 0.972, -0.178,  0.   ],\n",
       "       [ 0.991, -0.182,  0.   ],\n",
       "       [ 1.01 , -0.185,  0.   ],\n",
       "       [ 1.027, -0.189,  0.   ],\n",
       "       [ 1.05 , -0.194,  0.   ],\n",
       "       [ 1.072, -0.198,  0.   ],\n",
       "       [ 1.09 , -0.202,  0.   ],\n",
       "       [ 1.11 , -0.206,  0.   ],\n",
       "       [ 1.123, -0.208,  0.   ],\n",
       "       [ 1.148, -0.213,  0.   ],\n",
       "       [ 1.172, -0.218,  0.   ],\n",
       "       [ 1.187, -0.221,  0.   ],\n",
       "       [ 1.204, -0.225,  0.   ],\n",
       "       [ 1.209, -0.226,  0.   ],\n",
       "       [ 1.209, -0.226,  0.   ],\n",
       "       [ 1.209, -0.226,  0.   ],\n",
       "       [ 1.209, -0.226,  0.   ],\n",
       "       [ 1.209, -0.226,  0.   ],\n",
       "       [ 1.209, -0.226,  0.   ],\n",
       "       [ 1.209, -0.226,  0.   ],\n",
       "       [ 1.209, -0.226,  0.   ],\n",
       "       [ 1.209, -0.226,  0.   ],\n",
       "       [ 1.209, -0.226,  0.   ],\n",
       "       [ 1.209, -0.226,  0.   ],\n",
       "       [ 1.209, -0.226,  0.   ],\n",
       "       [ 1.209, -0.233,  0.   ],\n",
       "       [ 1.21 , -0.255,  0.   ],\n",
       "       [ 1.211, -0.277,  0.   ],\n",
       "       [ 1.212, -0.296,  0.   ],\n",
       "       [ 1.212, -0.316,  0.   ],\n",
       "       [ 1.213, -0.334,  0.   ],\n",
       "       [ 1.214, -0.354,  0.   ],\n",
       "       [ 1.215, -0.376,  0.   ],\n",
       "       [ 1.216, -0.395,  0.   ],\n",
       "       [ 1.216, -0.414,  0.   ],\n",
       "       [ 1.217, -0.438,  0.   ],\n",
       "       [ 1.218, -0.457,  0.   ],\n",
       "       [ 1.218, -0.471,  0.   ],\n",
       "       [ 1.219, -0.497,  0.   ],\n",
       "       [ 1.22 , -0.511,  0.   ],\n",
       "       [ 1.22 , -0.538,  0.   ],\n",
       "       [ 1.221, -0.559,  0.   ],\n",
       "       [ 1.222, -0.579,  0.   ],\n",
       "       [ 1.222, -0.601,  0.   ],\n",
       "       [ 1.223, -0.618,  0.   ],\n",
       "       [ 1.224, -0.641,  0.   ],\n",
       "       [ 1.224, -0.66 ,  0.   ],\n",
       "       [ 1.225, -0.681,  0.   ],\n",
       "       [ 1.225, -0.694,  0.   ],\n",
       "       [ 1.226, -0.721,  0.   ],\n",
       "       [ 1.226, -0.741,  0.   ],\n",
       "       [ 1.227, -0.759,  0.   ],\n",
       "       [ 1.227, -0.781,  0.   ],\n",
       "       [ 1.228, -0.797,  0.   ],\n",
       "       [ 1.228, -0.822,  0.   ],\n",
       "       [ 1.229, -0.841,  0.   ],\n",
       "       [ 1.229, -0.863,  0.   ],\n",
       "       [ 1.23 , -0.885,  0.   ],\n",
       "       [ 1.23 , -0.905,  0.   ],\n",
       "       [ 1.23 , -0.924,  0.   ],\n",
       "       [ 1.231, -0.945,  0.   ],\n",
       "       [ 1.231, -0.96 ,  0.   ],\n",
       "       [ 1.232, -0.984,  0.   ],\n",
       "       [ 1.232, -1.005,  0.   ],\n",
       "       [ 1.232, -1.025,  0.   ],\n",
       "       [ 1.232, -1.036,  0.   ],\n",
       "       [ 1.232, -1.036,  0.   ],\n",
       "       [ 1.232, -1.036,  0.   ],\n",
       "       [ 1.232, -1.036,  0.   ],\n",
       "       [ 1.232, -1.036,  0.   ],\n",
       "       [ 1.232, -1.036,  0.   ],\n",
       "       [ 1.232, -1.036,  0.   ],\n",
       "       [ 1.232, -1.036,  0.   ],\n",
       "       [ 1.232, -1.036,  0.   ],\n",
       "       [ 1.232, -1.036,  0.   ],\n",
       "       [ 1.23 , -1.037,  0.   ],\n",
       "       [ 1.206, -1.051,  0.   ],\n",
       "       [ 1.187, -1.062,  0.   ],\n",
       "       [ 1.17 , -1.072,  0.   ],\n",
       "       [ 1.152, -1.082,  0.   ],\n",
       "       [ 1.134, -1.093,  0.   ],\n",
       "       [ 1.117, -1.102,  0.   ],\n",
       "       [ 1.103, -1.111,  0.   ],\n",
       "       [ 1.082, -1.123,  0.   ],\n",
       "       [ 1.068, -1.131,  0.   ],\n",
       "       [ 1.048, -1.142,  0.   ],\n",
       "       [ 1.029, -1.153,  0.   ],\n",
       "       [ 1.015, -1.162,  0.   ],\n",
       "       [ 0.996, -1.173,  0.   ],\n",
       "       [ 0.978, -1.182,  0.   ],\n",
       "       [ 0.963, -1.191,  0.   ],\n",
       "       [ 0.942, -1.203,  0.   ],\n",
       "       [ 0.925, -1.213,  0.   ],\n",
       "       [ 0.905, -1.224,  0.   ],\n",
       "       [ 0.892, -1.231,  0.   ],\n",
       "       [ 0.872, -1.243,  0.   ],\n",
       "       [ 0.854, -1.253,  0.   ],\n",
       "       [ 0.837, -1.263,  0.   ],\n",
       "       [ 0.817, -1.274,  0.   ],\n",
       "       [ 0.801, -1.283,  0.   ],\n",
       "       [ 0.782, -1.294,  0.   ],\n",
       "       [ 0.765, -1.304,  0.   ],\n",
       "       [ 0.747, -1.313,  0.   ],\n",
       "       [ 0.729, -1.324,  0.   ],\n",
       "       [ 0.711, -1.334,  0.   ],\n",
       "       [ 0.697, -1.341,  0.   ],\n",
       "       [ 0.677, -1.352,  0.   ],\n",
       "       [ 0.663, -1.36 ,  0.   ],\n",
       "       [ 0.643, -1.372,  0.   ],\n",
       "       [ 0.626, -1.381,  0.   ],\n",
       "       [ 0.607, -1.392,  0.   ],\n",
       "       [ 0.59 , -1.401,  0.   ],\n",
       "       [ 0.571, -1.411,  0.   ],\n",
       "       [ 0.555, -1.42 ,  0.   ],\n",
       "       [ 0.539, -1.429,  0.   ],\n",
       "       [ 0.516, -1.441,  0.   ],\n",
       "       [ 0.498, -1.451,  0.   ],\n",
       "       [ 0.482, -1.46 ,  0.   ],\n",
       "       [ 0.464, -1.47 ,  0.   ],\n",
       "       [ 0.446, -1.48 ,  0.   ],\n",
       "       [ 0.427, -1.49 ,  0.   ],\n",
       "       [ 0.41 , -1.5  ,  0.   ],\n",
       "       [ 0.393, -1.509,  0.   ],\n",
       "       [ 0.378, -1.517,  0.   ],\n",
       "       [ 0.359, -1.527,  0.   ],\n",
       "       [ 0.341, -1.537,  0.   ],\n",
       "       [ 0.322, -1.547,  0.   ],\n",
       "       [ 0.304, -1.557,  0.   ],\n",
       "       [ 0.289, -1.565,  0.   ],\n",
       "       [ 0.269, -1.576,  0.   ],\n",
       "       [ 0.249, -1.586,  0.   ],\n",
       "       [ 0.231, -1.596,  0.   ],\n",
       "       [ 0.217, -1.604,  0.   ],\n",
       "       [ 0.195, -1.615,  0.   ],\n",
       "       [ 0.179, -1.624,  0.   ],\n",
       "       [ 0.161, -1.633,  0.   ],\n",
       "       [ 0.142, -1.644,  0.   ],\n",
       "       [ 0.126, -1.652,  0.   ],\n",
       "       [ 0.108, -1.662,  0.   ],\n",
       "       [ 0.089, -1.672,  0.   ],\n",
       "       [ 0.072, -1.681,  0.   ],\n",
       "       [ 0.053, -1.691,  0.   ],\n",
       "       [ 0.037, -1.699,  0.   ],\n",
       "       [ 0.03 , -1.703,  0.   ],\n",
       "       [ 0.03 , -1.703,  0.   ],\n",
       "       [ 0.03 , -1.703,  0.   ],\n",
       "       [ 0.03 , -1.703,  0.   ],\n",
       "       [ 0.03 , -1.703,  0.   ],\n",
       "       [ 0.03 , -1.703,  0.   ],\n",
       "       [ 0.03 , -1.703,  0.   ],\n",
       "       [ 0.03 , -1.703,  0.   ],\n",
       "       [ 0.03 , -1.703,  0.   ],\n",
       "       [ 0.03 , -1.703,  0.   ],\n",
       "       [ 0.03 , -1.703,  0.   ],\n",
       "       [ 0.03 , -1.703,  0.   ],\n",
       "       [ 0.03 , -1.703,  0.   ],\n",
       "       [ 0.03 , -1.703,  0.   ],\n",
       "       [ 0.03 , -1.703,  0.   ],\n",
       "       [ 0.03 , -1.703,  0.   ],\n",
       "       [ 0.03 , -1.703,  0.   ],\n",
       "       [ 0.03 , -1.703,  0.   ],\n",
       "       [ 0.03 , -1.703,  0.   ],\n",
       "       [ 0.027, -1.701,  0.   ],\n",
       "       [ 0.011, -1.69 ,  0.   ],\n",
       "       [-0.008, -1.678,  0.   ],\n",
       "       [-0.024, -1.668,  0.   ],\n",
       "       [-0.041, -1.656,  0.   ],\n",
       "       [-0.06 , -1.644,  0.   ],\n",
       "       [-0.073, -1.635,  0.   ],\n",
       "       [-0.09 , -1.624,  0.   ],\n",
       "       [-0.109, -1.611,  0.   ],\n",
       "       [-0.126, -1.6  ,  0.   ],\n",
       "       [-0.143, -1.589,  0.   ],\n",
       "       [-0.159, -1.578,  0.   ],\n",
       "       [-0.175, -1.568,  0.   ],\n",
       "       [-0.192, -1.556,  0.   ],\n",
       "       [-0.21 , -1.545,  0.   ],\n",
       "       [-0.227, -1.533,  0.   ],\n",
       "       [-0.242, -1.523,  0.   ],\n",
       "       [-0.259, -1.512,  0.   ],\n",
       "       [-0.277, -1.499,  0.   ],\n",
       "       [-0.292, -1.49 ,  0.   ],\n",
       "       [-0.31 , -1.477,  0.   ],\n",
       "       [-0.328, -1.465,  0.   ],\n",
       "       [-0.343, -1.455,  0.   ],\n",
       "       [-0.362, -1.442,  0.   ],\n",
       "       [-0.379, -1.431,  0.   ],\n",
       "       [-0.396, -1.42 ,  0.   ],\n",
       "       [-0.41 , -1.41 ,  0.   ],\n",
       "       [-0.427, -1.399,  0.   ],\n",
       "       [-0.443, -1.387,  0.   ],\n",
       "       [-0.461, -1.375,  0.   ],\n",
       "       [-0.478, -1.364,  0.   ],\n",
       "       [-0.495, -1.352,  0.   ],\n",
       "       [-0.511, -1.341,  0.   ],\n",
       "       [-0.529, -1.329,  0.   ],\n",
       "       [-0.545, -1.318,  0.   ],\n",
       "       [-0.562, -1.307,  0.   ],\n",
       "       [-0.578, -1.295,  0.   ],\n",
       "       [-0.595, -1.283,  0.   ],\n",
       "       [-0.612, -1.272,  0.   ],\n",
       "       [-0.627, -1.261,  0.   ],\n",
       "       [-0.646, -1.249,  0.   ],\n",
       "       [-0.661, -1.238,  0.   ],\n",
       "       [-0.679, -1.226,  0.   ],\n",
       "       [-0.695, -1.214,  0.   ],\n",
       "       [-0.71 , -1.204,  0.   ],\n",
       "       [-0.729, -1.191,  0.   ],\n",
       "       [-0.745, -1.18 ,  0.   ],\n",
       "       [-0.754, -1.173,  0.   ],\n",
       "       [-0.779, -1.156,  0.   ],\n",
       "       [-0.789, -1.149,  0.   ],\n",
       "       [-0.811, -1.134,  0.   ],\n",
       "       [-0.827, -1.122,  0.   ],\n",
       "       [-0.844, -1.11 ,  0.   ],\n",
       "       [-0.86 , -1.099,  0.   ],\n",
       "       [-0.876, -1.088,  0.   ],\n",
       "       [-0.893, -1.076,  0.   ],\n",
       "       [-0.909, -1.064,  0.   ],\n",
       "       [-0.926, -1.052,  0.   ],\n",
       "       [-0.943, -1.041,  0.   ],\n",
       "       [-0.961, -1.028,  0.   ],\n",
       "       [-0.977, -1.016,  0.   ],\n",
       "       [-0.994, -1.004,  0.   ],\n",
       "       [-1.006, -0.996,  0.   ]])"
      ]
     },
     "execution_count": 51,
     "metadata": {},
     "output_type": "execute_result"
    }
   ],
   "source": [
    "t[:280]"
   ]
  },
  {
   "cell_type": "code",
   "execution_count": null,
   "metadata": {},
   "outputs": [],
   "source": [
    "t_xzy = np.round(t_xzy,2)\n",
    "t_xzy[:54]"
   ]
  },
  {
   "cell_type": "code",
   "execution_count": 44,
   "metadata": {},
   "outputs": [],
   "source": [
    "import numpy as np\n",
    "import matplotlib.pyplot as plt"
   ]
  },
  {
   "cell_type": "code",
   "execution_count": 272,
   "metadata": {},
   "outputs": [],
   "source": [
    "x = []\n",
    "z = []\n",
    "\n",
    "for i in gt_t[:20]:\n",
    "    x.append(i[1])\n",
    "    z.append(i[0])\n",
    "    "
   ]
  },
  {
   "cell_type": "code",
   "execution_count": null,
   "metadata": {},
   "outputs": [],
   "source": [
    "xn = []\n",
    "yn = []\n",
    "\n",
    "for i in range(200):\n",
    "    xn.append(((p[i][0])+(t[i][0]))/2)\n",
    "    yn.append(((p[i][1])+(t[i][1]))/2)\n",
    "    "
   ]
  },
  {
   "cell_type": "code",
   "execution_count": 93,
   "metadata": {},
   "outputs": [],
   "source": [
    "x_t = []\n",
    "y_t = []\n",
    "\n",
    "for i in range(66):\n",
    "    x_t.append(t[i][0])\n",
    "    y_t.append(t[i][1])"
   ]
  },
  {
   "cell_type": "code",
   "execution_count": 271,
   "metadata": {},
   "outputs": [
    {
     "data": {
      "image/png": "[encoded data removed]",
      "text/plain": [
       "<Figure size 432x288 with 1 Axes>"
      ]
     },
     "metadata": {
      "needs_background": "light"
     },
     "output_type": "display_data"
    }
   ],
   "source": [
    "plt.scatter(x, z)\n",
    "plt.show()"
   ]
  },
  {
   "cell_type": "code",
   "execution_count": 273,
   "metadata": {},
   "outputs": [
    {
     "data": {
      "image/png": "[encoded data removed]",
      "text/plain": [
       "<Figure size 432x288 with 1 Axes>"
      ]
     },
     "metadata": {
      "needs_background": "light"
     },
     "output_type": "display_data"
    }
   ],
   "source": [
    "plt.scatter(x, z)\n",
    "plt.show()"
   ]
  },
  {
   "cell_type": "code",
   "execution_count": 95,
   "metadata": {},
   "outputs": [
    {
     "data": {
      "image/png": "[encoded data removed]",
      "text/plain": [
       "<Figure size 432x288 with 1 Axes>"
      ]
     },
     "metadata": {
      "needs_background": "light"
     },
     "output_type": "display_data"
    }
   ],
   "source": [
    "plt.scatter(x_t, y_t)\n",
    "plt.show()"
   ]
  },
  {
   "cell_type": "code",
   "execution_count": 97,
   "metadata": {},
   "outputs": [],
   "source": [
    "c = compute_euler_angle(vo.cur_R)"
   ]
  },
  {
   "cell_type": "code",
   "execution_count": 98,
   "metadata": {},
   "outputs": [
    {
     "data": {
      "text/plain": [
       "array([1.1353185 , 0.01137473, 2.94796369])"
      ]
     },
     "execution_count": 98,
     "metadata": {},
     "output_type": "execute_result"
    }
   ],
   "source": [
    "c"
   ]
  },
  {
   "cell_type": "code",
   "execution_count": 16,
   "metadata": {},
   "outputs": [],
   "source": [
    "def display_top(snapshot, key_type='lineno', limit=10):\n",
    "    snapshot = snapshot.filter_traces((\n",
    "        tracemalloc.Filter(False, \"<frozen importlib._bootstrap>\"),\n",
    "        tracemalloc.Filter(False, \"<unknown>\"),\n",
    "    ))\n",
    "    top_stats = snapshot.statistics(key_type)\n",
    "\n",
    "    print(\"Top %s lines\" % limit)\n",
    "    for index, stat in enumerate(top_stats[:limit], 1):\n",
    "        frame = stat.traceback[0]\n",
    "        print(\"#%s: %s:%s: %.1f KiB\"\n",
    "              % (index, frame.filename, frame.lineno, stat.size / 1024))\n",
    "        line = linecache.getline(frame.filename, frame.lineno).strip()\n",
    "        if line:\n",
    "            print('    %s' % line)\n",
    "\n",
    "    other = top_stats[limit:]\n",
    "    if other:\n",
    "        size = sum(stat.size for stat in other)\n",
    "        print(\"%s other: %.1f KiB\" % (len(other), size / 1024))\n",
    "    total = sum(stat.size for stat in top_stats)\n",
    "    print(\"Total allocated size: %.1f KiB\" % (total / 1024))\n"
   ]
  },
  {
   "cell_type": "code",
   "execution_count": 16,
   "metadata": {},
   "outputs": [
    {
     "data": {
      "text/plain": [
       "array([[ 0.78281471],\n",
       "       [-0.0212825 ],\n",
       "       [ 0.62189081]])"
      ]
     },
     "execution_count": 16,
     "metadata": {},
     "output_type": "execute_result"
    }
   ],
   "source": [
    "vo.trans_est"
   ]
  },
  {
   "cell_type": "code",
   "execution_count": 15,
   "metadata": {},
   "outputs": [
    {
     "data": {
      "text/plain": [
       "True"
      ]
     },
     "execution_count": 15,
     "metadata": {},
     "output_type": "execute_result"
    }
   ],
   "source": [
    "cv2.imwrite(\"Images/current.jpg\", img2)"
   ]
  },
  {
   "cell_type": "code",
   "execution_count": 17,
   "metadata": {},
   "outputs": [
    {
     "name": "stdout",
     "output_type": "stream",
     "text": [
      "[[ 0.99959432  0.00204117  0.02840809]\n",
      " [-0.00209109  0.99999632  0.00172741]\n",
      " [-0.02840446 -0.00178611  0.99959492]]\n"
     ]
    }
   ],
   "source": [
    "print(vo.cur_R)"
   ]
  },
  {
   "cell_type": "code",
   "execution_count": 11,
   "metadata": {},
   "outputs": [
    {
     "name": "stdout",
     "output_type": "stream",
     "text": [
      "[[ 0.78281471]\n",
      " [-0.0212825 ]\n",
      " [ 0.62189081]]\n"
     ]
    }
   ],
   "source": [
    "print(vo.cur_t)"
   ]
  },
  {
   "cell_type": "code",
   "execution_count": 64,
   "metadata": {},
   "outputs": [],
   "source": [
    "a,b = None, None"
   ]
  },
  {
   "cell_type": "code",
   "execution_count": 21,
   "metadata": {},
   "outputs": [
    {
     "data": {
      "text/plain": [
       "[[array([0.]), array([0.]), array([0.])]]"
      ]
     },
     "execution_count": 21,
     "metadata": {},
     "output_type": "execute_result"
    }
   ],
   "source": [
    "vo.trans_est_ref"
   ]
  },
  {
   "cell_type": "code",
   "execution_count": 32,
   "metadata": {},
   "outputs": [
    {
     "data": {
      "text/plain": [
       "array([-0.00492516,  0.0938872 , -0.01327321])"
      ]
     },
     "execution_count": 32,
     "metadata": {},
     "output_type": "execute_result"
    }
   ],
   "source": [
    "compute_euler_angle(vo.cur_R)"
   ]
  },
  {
   "cell_type": "code",
   "execution_count": 12,
   "metadata": {},
   "outputs": [
    {
     "name": "stdout",
     "output_type": "stream",
     "text": [
      "processing second frame\n",
      "# matched points:  55 , # inliers:  19\n"
     ]
    }
   ],
   "source": [
    "vo.trackImage(image_2)"
   ]
  },
  {
   "cell_type": "code",
   "execution_count": 13,
   "metadata": {},
   "outputs": [
    {
     "data": {
      "text/plain": [
       "True"
      ]
     },
     "execution_count": 13,
     "metadata": {},
     "output_type": "execute_result"
    }
   ],
   "source": [
    "img2 = vo.draw_img\n",
    "cv2.imwrite(\"Images/res/image2.jpg\", img2)"
   ]
  },
  {
   "cell_type": "code",
   "execution_count": 16,
   "metadata": {},
   "outputs": [
    {
     "data": {
      "text/plain": [
       "array([[1.18445052],\n",
       "       [0.05603373],\n",
       "       [1.53442075]])"
      ]
     },
     "execution_count": 16,
     "metadata": {},
     "output_type": "execute_result"
    }
   ],
   "source": [
    "vo.cur_t"
   ]
  },
  {
   "cell_type": "code",
   "execution_count": 19,
   "metadata": {},
   "outputs": [
    {
     "data": {
      "text/plain": [
       "array([[ 0.99959432,  0.00204117,  0.02840809,  0.        ],\n",
       "       [-0.00209109,  0.99999632,  0.00172741,  0.        ],\n",
       "       [-0.02840446, -0.00178611,  0.99959492,  0.        ],\n",
       "       [ 0.        ,  0.        ,  0.        ,  1.        ]])"
      ]
     },
     "execution_count": 19,
     "metadata": {},
     "output_type": "execute_result"
    }
   ],
   "source": [
    "vo.poses[0]"
   ]
  },
  {
   "cell_type": "code",
   "execution_count": 20,
   "metadata": {},
   "outputs": [
    {
     "data": {
      "text/plain": [
       "array([[ 9.98023904e-01, -3.12445700e-04,  6.28346193e-02,\n",
       "         4.01635806e-01],\n",
       "       [ 9.73925527e-04,  9.99944431e-01, -1.04969621e-02,\n",
       "         7.73162345e-02],\n",
       "       [-6.28278480e-02,  1.05374154e-02,  9.97968749e-01,\n",
       "         9.12529933e-01],\n",
       "       [ 0.00000000e+00,  0.00000000e+00,  0.00000000e+00,\n",
       "         1.00000000e+00]])"
      ]
     },
     "execution_count": 20,
     "metadata": {},
     "output_type": "execute_result"
    }
   ],
   "source": [
    "vo.poses[1]"
   ]
  },
  {
   "cell_type": "code",
   "execution_count": 26,
   "metadata": {},
   "outputs": [
    {
     "data": {
      "text/plain": [
       "[[array([0.]), array([0.]), array([0.])],\n",
       " [array([0.40163581]), array([0.07731623]), array([0.91252993])]]"
      ]
     },
     "execution_count": 26,
     "metadata": {},
     "output_type": "execute_result"
    }
   ],
   "source": [
    "vo.trans_est_ref"
   ]
  },
  {
   "cell_type": "code",
   "execution_count": 22,
   "metadata": {},
   "outputs": [
    {
     "data": {
      "text/plain": [
       "array([[1.18445052],\n",
       "       [0.05603373],\n",
       "       [1.53442075]])"
      ]
     },
     "execution_count": 22,
     "metadata": {},
     "output_type": "execute_result"
    }
   ],
   "source": [
    "vo.cur_t"
   ]
  },
  {
   "cell_type": "code",
   "execution_count": 23,
   "metadata": {},
   "outputs": [
    {
     "data": {
      "text/plain": [
       "array([[ 9.98023904e-01, -3.12445700e-04,  6.28346193e-02],\n",
       "       [ 9.73925527e-04,  9.99944431e-01, -1.04969621e-02],\n",
       "       [-6.28278480e-02,  1.05374154e-02,  9.97968749e-01]])"
      ]
     },
     "execution_count": 23,
     "metadata": {},
     "output_type": "execute_result"
    }
   ],
   "source": [
    "vo.cur_R"
   ]
  },
  {
   "cell_type": "code",
   "execution_count": 27,
   "metadata": {},
   "outputs": [
    {
     "name": "stdout",
     "output_type": "stream",
     "text": [
      "processing second frame\n",
      "# matched points:  50 , # inliers:  15\n"
     ]
    }
   ],
   "source": [
    "vo.trackImage(image_3)"
   ]
  },
  {
   "cell_type": "code",
   "execution_count": 28,
   "metadata": {},
   "outputs": [
    {
     "data": {
      "text/plain": [
       "True"
      ]
     },
     "execution_count": 28,
     "metadata": {},
     "output_type": "execute_result"
    }
   ],
   "source": [
    "img2 = vo.draw_img\n",
    "cv2.imwrite(\"Images/res/image2.jpg\", img2)"
   ]
  },
  {
   "cell_type": "code",
   "execution_count": 29,
   "metadata": {},
   "outputs": [
    {
     "data": {
      "text/plain": [
       "[[array([0.]), array([0.]), array([0.])],\n",
       " [array([0.40163581]), array([0.07731623]), array([0.91252993])],\n",
       " [array([0.95375506]), array([-0.00526277]), array([1.74219555])]]"
      ]
     },
     "execution_count": 29,
     "metadata": {},
     "output_type": "execute_result"
    }
   ],
   "source": [
    "vo.trans_est_ref"
   ]
  },
  {
   "cell_type": "code",
   "execution_count": 30,
   "metadata": {},
   "outputs": [
    {
     "data": {
      "text/plain": [
       "array([[ 1.73656977],\n",
       "       [-0.02654527],\n",
       "       [ 2.36408636]])"
      ]
     },
     "execution_count": 30,
     "metadata": {},
     "output_type": "execute_result"
    }
   ],
   "source": [
    "vo.cur_t"
   ]
  },
  {
   "cell_type": "code",
   "execution_count": 31,
   "metadata": {},
   "outputs": [
    {
     "data": {
      "text/plain": [
       "array([[ 0.99550813,  0.01321437,  0.09374933],\n",
       "       [-0.01373435,  0.99989366,  0.00490345],\n",
       "       [-0.09367457, -0.00616901,  0.99558376]])"
      ]
     },
     "execution_count": 31,
     "metadata": {},
     "output_type": "execute_result"
    }
   ],
   "source": [
    "vo.cur_R"
   ]
  },
  {
   "cell_type": "code",
   "execution_count": 34,
   "metadata": {},
   "outputs": [
    {
     "data": {
      "text/plain": [
       "True"
      ]
     },
     "execution_count": 34,
     "metadata": {},
     "output_type": "execute_result"
    }
   ],
   "source": [
    "img3 = vo.draw_img\n",
    "cv2.imwrite(\"Images/res/image3.jpg\", img3)"
   ]
  },
  {
   "cell_type": "code",
   "execution_count": 65,
   "metadata": {},
   "outputs": [
    {
     "data": {
      "text/plain": [
       "array([[-0.   , -0.   , -1.678],\n",
       "       [-0.   , -0.   , -1.679],\n",
       "       [-0.   , -0.   , -1.68 ],\n",
       "       [-0.   , -0.   , -1.681],\n",
       "       [-0.   , -0.   , -1.682],\n",
       "       [-0.   , -0.   , -1.68 ],\n",
       "       [-0.   , -0.   , -1.677],\n",
       "       [-0.   , -0.   , -1.679],\n",
       "       [-0.   , -0.   , -1.681],\n",
       "       [-0.   , -0.   , -1.681],\n",
       "       [-0.   , -0.   , -1.681],\n",
       "       [-0.   , -0.   , -1.683],\n",
       "       [-0.   , -0.   , -1.685],\n",
       "       [-0.   , -0.   , -1.687],\n",
       "       [-0.   , -0.   , -1.689],\n",
       "       [-0.   , -0.   , -1.691],\n",
       "       [-0.   , -0.   , -1.694],\n",
       "       [-0.   , -0.   , -1.695],\n",
       "       [-0.   , -0.   , -1.696],\n",
       "       [-0.   , -0.   , -1.651],\n",
       "       [-0.   , -0.   , -1.466],\n",
       "       [-0.   , -0.   , -1.304],\n",
       "       [-0.   , -0.   , -1.136],\n",
       "       [-0.   , -0.   , -0.961],\n",
       "       [-0.   , -0.   , -0.806],\n",
       "       [-0.   , -0.   , -0.634],\n",
       "       [-0.   , -0.   , -0.472],\n",
       "       [-0.   , -0.   , -0.31 ],\n",
       "       [-0.   , -0.   , -0.182],\n",
       "       [ 0.   , -0.   ,  0.018],\n",
       "       [ 0.   , -0.   ,  0.02 ],\n",
       "       [ 0.   , -0.   ,  0.023],\n",
       "       [ 0.   , -0.   ,  0.021],\n",
       "       [ 0.   , -0.   ,  0.021],\n",
       "       [ 0.   , -0.   ,  0.02 ],\n",
       "       [ 0.   , -0.   ,  0.019],\n",
       "       [ 0.   , -0.   ,  0.021],\n",
       "       [ 0.   , -0.   ,  0.019],\n",
       "       [ 0.   , -0.   ,  0.021],\n",
       "       [ 0.   , -0.   ,  0.018],\n",
       "       [ 0.   , -0.   ,  0.016],\n",
       "       [ 0.   , -0.   ,  0.014],\n",
       "       [ 0.   , -0.   ,  0.016],\n",
       "       [ 0.   , -0.   ,  0.012],\n",
       "       [ 0.   , -0.   ,  0.01 ],\n",
       "       [ 0.   , -0.   ,  0.007],\n",
       "       [ 0.   , -0.   ,  0.007],\n",
       "       [ 0.   , -0.   ,  0.004],\n",
       "       [ 0.   , -0.   ,  0.   ],\n",
       "       [-0.   , -0.   , -0.003],\n",
       "       [-0.   , -0.   , -0.006],\n",
       "       [-0.   , -0.   , -0.007],\n",
       "       [-0.   , -0.   , -0.01 ],\n",
       "       [-0.   , -0.   , -0.015],\n",
       "       [-0.   , -0.   , -0.019],\n",
       "       [-0.   , -0.   , -0.023],\n",
       "       [-0.   , -0.   , -0.019],\n",
       "       [ 0.   , -0.   ,  0.057],\n",
       "       [ 0.   , -0.   ,  0.262],\n",
       "       [ 0.   , -0.   ,  0.424],\n",
       "       [ 0.   , -0.   ,  0.589],\n",
       "       [ 0.   , -0.   ,  0.737],\n",
       "       [ 0.   , -0.   ,  0.919],\n",
       "       [ 0.   , -0.   ,  1.051],\n",
       "       [ 0.   , -0.   ,  1.249],\n",
       "       [ 0.   , -0.   ,  1.418],\n",
       "       [ 0.   , -0.   ,  1.524],\n",
       "       [ 0.   , -0.   ,  1.523],\n",
       "       [ 0.   , -0.   ,  1.522],\n",
       "       [ 0.   , -0.   ,  1.521],\n",
       "       [ 0.   , -0.   ,  1.52 ],\n",
       "       [ 0.   , -0.   ,  1.519],\n",
       "       [ 0.   , -0.   ,  1.521],\n",
       "       [ 0.   , -0.   ,  1.52 ],\n",
       "       [ 0.   , -0.   ,  1.52 ],\n",
       "       [ 0.   , -0.   ,  1.508],\n",
       "       [ 0.   , -0.   ,  1.502],\n",
       "       [ 0.   , -0.   ,  1.497],\n",
       "       [ 0.   , -0.   ,  1.492],\n",
       "       [ 0.   , -0.   ,  1.487],\n",
       "       [ 0.   , -0.   ,  1.482],\n",
       "       [ 0.   , -0.   ,  1.476],\n",
       "       [ 0.   , -0.   ,  1.47 ],\n",
       "       [ 0.   , -0.   ,  1.462],\n",
       "       [ 0.   , -0.   ,  1.461],\n",
       "       [ 0.   , -0.   ,  1.44 ],\n",
       "       [ 0.   , -0.   ,  1.275],\n",
       "       [ 0.   , -0.   ,  1.126],\n",
       "       [ 0.   , -0.   ,  0.927],\n",
       "       [ 0.   , -0.   ,  0.775],\n",
       "       [ 0.   , -0.   ,  0.745],\n",
       "       [ 0.   , -0.   ,  0.746],\n",
       "       [ 0.   , -0.   ,  0.745],\n",
       "       [ 0.   , -0.   ,  0.856],\n",
       "       [ 0.   , -0.   ,  1.007],\n",
       "       [ 0.   , -0.   ,  1.189],\n",
       "       [ 0.   , -0.   ,  1.357],\n",
       "       [ 0.   , -0.   ,  1.526],\n",
       "       [ 0.   , -0.   ,  1.684],\n",
       "       [ 0.   , -0.   ,  1.85 ]])"
      ]
     },
     "execution_count": 65,
     "metadata": {},
     "output_type": "execute_result"
    }
   ],
   "source": [
    "r"
   ]
  },
  {
   "cell_type": "code",
   "execution_count": null,
   "metadata": {},
   "outputs": [],
   "source": []
  }
 ],
 "metadata": {
  "kernelspec": {
   "display_name": "Python 3",
   "language": "python",
   "name": "python3"
  },
  "language_info": {
   "codemirror_mode": {
    "name": "ipython",
    "version": 3
   },
   "file_extension": ".py",
   "mimetype": "text/x-python",
   "name": "python",
   "nbconvert_exporter": "python",
   "pygments_lexer": "ipython3",
   "version": "3.7.3"
  }
 },
 "nbformat": 4,
 "nbformat_minor": 2
}
