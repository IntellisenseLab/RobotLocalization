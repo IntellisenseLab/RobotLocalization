{
 "cells": [
  {
   "cell_type": "code",
   "execution_count": 1,
   "metadata": {},
   "outputs": [],
   "source": [
    "import numpy as np\n",
    "import cv2\n",
    "\n",
    "from feature_tracker import FeatureTrackerTypes, FeatureTracker, FeatureTrackingResult\n",
    "from feature_orb2D import OrbFeature2D\n",
    "from feature_matcher import feature_matcher_factory, FeatureMatcherTypes\n",
    "from parameters import Parameters \n",
    "import random\n",
    "import tracemalloc\n",
    "import linecache\n",
    "from visual_odometry import ImageRecievedState, VisualOdometry\n",
    "from camera import KinectCamera\n",
    "from utils import compute_euler_angle"
   ]
  },
  {
   "cell_type": "code",
   "execution_count": 2,
   "metadata": {},
   "outputs": [],
   "source": [
    "MinNumFeatureDefault = Parameters.MinNumFeatureDefault\n",
    "RatioTest = Parameters.FeatureMatchRatioTest"
   ]
  },
  {
   "cell_type": "code",
   "execution_count": 3,
   "metadata": {},
   "outputs": [],
   "source": [
    "image_0 = cv2.imread(\"Images/seq/imagenew0.jpg\")\n",
    "image_1 = cv2.imread(\"Images/seq/imagenew1.jpg\")\n",
    "image_2 = cv2.imread(\"Images/seq/imagenew2.jpg\")\n",
    "image_3 = cv2.imread(\"Images/seq/imagenew3.jpg\")"
   ]
  },
  {
   "cell_type": "code",
   "execution_count": 4,
   "metadata": {},
   "outputs": [],
   "source": [
    "width  = 640\n",
    "height = 480\n",
    "fx     = 554.254691191187\n",
    "fy     = 554.254691191187\n",
    "cx     = 320.5\n",
    "cy     = 240.5\n",
    "D      = [0.0, 0.0, 0.0, 0.0, 0.0] "
   ]
  },
  {
   "cell_type": "code",
   "execution_count": 5,
   "metadata": {},
   "outputs": [],
   "source": [
    "cam = KinectCamera(width, height, fx, fy, cx, cy, D)"
   ]
  },
  {
   "cell_type": "code",
   "execution_count": 6,
   "metadata": {},
   "outputs": [
    {
     "name": "stdout",
     "output_type": "stream",
     "text": [
      "Using Orb Feature 2D\n"
     ]
    }
   ],
   "source": [
    "feature_tracker = FeatureTracker(num_features=MinNumFeatureDefault, \n",
    "                       num_levels = 8,  \n",
    "                       scale_factor = 1.2,   \n",
    "                       match_ratio_test = RatioTest, \n",
    "                       tracker_type = FeatureTrackerTypes.DES_BF)"
   ]
  },
  {
   "cell_type": "code",
   "execution_count": 7,
   "metadata": {},
   "outputs": [],
   "source": [
    "vo = VisualOdometry(cam, feature_tracker)"
   ]
  },
  {
   "cell_type": "code",
   "execution_count": 8,
   "metadata": {},
   "outputs": [
    {
     "data": {
      "text/plain": [
       "<camera.KinectCamera at 0x1610a487fd0>"
      ]
     },
     "execution_count": 8,
     "metadata": {},
     "output_type": "execute_result"
    }
   ],
   "source": [
    "vo.cam"
   ]
  },
  {
   "cell_type": "code",
   "execution_count": 9,
   "metadata": {},
   "outputs": [
    {
     "name": "stdout",
     "output_type": "stream",
     "text": [
      "processing first frame\n"
     ]
    }
   ],
   "source": [
    "vo.trackImage(image_0)"
   ]
  },
  {
   "cell_type": "code",
   "execution_count": 10,
   "metadata": {},
   "outputs": [],
   "source": [
    "img0 = vo.draw_img"
   ]
  },
  {
   "cell_type": "code",
   "execution_count": 12,
   "metadata": {},
   "outputs": [
    {
     "data": {
      "text/plain": [
       "True"
      ]
     },
     "execution_count": 12,
     "metadata": {},
     "output_type": "execute_result"
    }
   ],
   "source": [
    "cv2.imwrite(\"Images/res/image0.jpg\", img0)"
   ]
  },
  {
   "cell_type": "code",
   "execution_count": 10,
   "metadata": {},
   "outputs": [
    {
     "name": "stdout",
     "output_type": "stream",
     "text": [
      "processing second frame\n",
      "# matched points:  50 , # inliers:  17\n"
     ]
    }
   ],
   "source": [
    "vo.trackImage(image_1)"
   ]
  },
  {
   "cell_type": "code",
   "execution_count": 14,
   "metadata": {},
   "outputs": [],
   "source": [
    "img1 = vo.draw_img"
   ]
  },
  {
   "cell_type": "code",
   "execution_count": 15,
   "metadata": {},
   "outputs": [
    {
     "data": {
      "text/plain": [
       "True"
      ]
     },
     "execution_count": 15,
     "metadata": {},
     "output_type": "execute_result"
    }
   ],
   "source": [
    "cv2.imwrite(\"Images/res/image1.jpg\", img1)"
   ]
  },
  {
   "cell_type": "code",
   "execution_count": 16,
   "metadata": {},
   "outputs": [
    {
     "data": {
      "text/plain": [
       "array([[ 0.78281471],\n",
       "       [-0.0212825 ],\n",
       "       [ 0.62189081]])"
      ]
     },
     "execution_count": 16,
     "metadata": {},
     "output_type": "execute_result"
    }
   ],
   "source": [
    "vo.trans_est"
   ]
  },
  {
   "cell_type": "code",
   "execution_count": 15,
   "metadata": {},
   "outputs": [
    {
     "data": {
      "text/plain": [
       "True"
      ]
     },
     "execution_count": 15,
     "metadata": {},
     "output_type": "execute_result"
    }
   ],
   "source": [
    "cv2.imwrite(\"Images/current.jpg\", img2)"
   ]
  },
  {
   "cell_type": "code",
   "execution_count": 17,
   "metadata": {},
   "outputs": [
    {
     "name": "stdout",
     "output_type": "stream",
     "text": [
      "[[ 0.99959432  0.00204117  0.02840809]\n",
      " [-0.00209109  0.99999632  0.00172741]\n",
      " [-0.02840446 -0.00178611  0.99959492]]\n"
     ]
    }
   ],
   "source": [
    "print(vo.cur_R)"
   ]
  },
  {
   "cell_type": "code",
   "execution_count": 11,
   "metadata": {},
   "outputs": [
    {
     "name": "stdout",
     "output_type": "stream",
     "text": [
      "[[ 0.78281471]\n",
      " [-0.0212825 ]\n",
      " [ 0.62189081]]\n"
     ]
    }
   ],
   "source": [
    "print(vo.cur_t)"
   ]
  },
  {
   "cell_type": "code",
   "execution_count": 19,
   "metadata": {},
   "outputs": [
    {
     "data": {
      "text/plain": [
       "[array([[ 0.99959432,  0.00204117,  0.02840809,  0.        ],\n",
       "        [-0.00209109,  0.99999632,  0.00172741,  0.        ],\n",
       "        [-0.02840446, -0.00178611,  0.99959492,  0.        ],\n",
       "        [ 0.        ,  0.        ,  0.        ,  1.        ]])]"
      ]
     },
     "execution_count": 19,
     "metadata": {},
     "output_type": "execute_result"
    }
   ],
   "source": [
    "vo.poses"
   ]
  },
  {
   "cell_type": "code",
   "execution_count": 21,
   "metadata": {},
   "outputs": [
    {
     "data": {
      "text/plain": [
       "[[array([0.]), array([0.]), array([0.])]]"
      ]
     },
     "execution_count": 21,
     "metadata": {},
     "output_type": "execute_result"
    }
   ],
   "source": [
    "vo.trans_est_ref"
   ]
  },
  {
   "cell_type": "code",
   "execution_count": 32,
   "metadata": {},
   "outputs": [
    {
     "data": {
      "text/plain": [
       "array([-0.00492516,  0.0938872 , -0.01327321])"
      ]
     },
     "execution_count": 32,
     "metadata": {},
     "output_type": "execute_result"
    }
   ],
   "source": [
    "compute_euler_angle(vo.cur_R)"
   ]
  },
  {
   "cell_type": "code",
   "execution_count": 12,
   "metadata": {},
   "outputs": [
    {
     "name": "stdout",
     "output_type": "stream",
     "text": [
      "processing second frame\n",
      "# matched points:  55 , # inliers:  19\n"
     ]
    }
   ],
   "source": [
    "vo.trackImage(image_2)"
   ]
  },
  {
   "cell_type": "code",
   "execution_count": 13,
   "metadata": {},
   "outputs": [
    {
     "data": {
      "text/plain": [
       "True"
      ]
     },
     "execution_count": 13,
     "metadata": {},
     "output_type": "execute_result"
    }
   ],
   "source": [
    "img2 = vo.draw_img\n",
    "cv2.imwrite(\"Images/res/image2.jpg\", img2)"
   ]
  },
  {
   "cell_type": "code",
   "execution_count": 16,
   "metadata": {},
   "outputs": [
    {
     "data": {
      "text/plain": [
       "array([[1.18445052],\n",
       "       [0.05603373],\n",
       "       [1.53442075]])"
      ]
     },
     "execution_count": 16,
     "metadata": {},
     "output_type": "execute_result"
    }
   ],
   "source": [
    "vo.cur_t"
   ]
  },
  {
   "cell_type": "code",
   "execution_count": 19,
   "metadata": {},
   "outputs": [
    {
     "data": {
      "text/plain": [
       "array([[ 0.99959432,  0.00204117,  0.02840809,  0.        ],\n",
       "       [-0.00209109,  0.99999632,  0.00172741,  0.        ],\n",
       "       [-0.02840446, -0.00178611,  0.99959492,  0.        ],\n",
       "       [ 0.        ,  0.        ,  0.        ,  1.        ]])"
      ]
     },
     "execution_count": 19,
     "metadata": {},
     "output_type": "execute_result"
    }
   ],
   "source": [
    "vo.poses[0]"
   ]
  },
  {
   "cell_type": "code",
   "execution_count": 20,
   "metadata": {},
   "outputs": [
    {
     "data": {
      "text/plain": [
       "array([[ 9.98023904e-01, -3.12445700e-04,  6.28346193e-02,\n",
       "         4.01635806e-01],\n",
       "       [ 9.73925527e-04,  9.99944431e-01, -1.04969621e-02,\n",
       "         7.73162345e-02],\n",
       "       [-6.28278480e-02,  1.05374154e-02,  9.97968749e-01,\n",
       "         9.12529933e-01],\n",
       "       [ 0.00000000e+00,  0.00000000e+00,  0.00000000e+00,\n",
       "         1.00000000e+00]])"
      ]
     },
     "execution_count": 20,
     "metadata": {},
     "output_type": "execute_result"
    }
   ],
   "source": [
    "vo.poses[1]"
   ]
  },
  {
   "cell_type": "code",
   "execution_count": 26,
   "metadata": {},
   "outputs": [
    {
     "data": {
      "text/plain": [
       "[[array([0.]), array([0.]), array([0.])],\n",
       " [array([0.40163581]), array([0.07731623]), array([0.91252993])]]"
      ]
     },
     "execution_count": 26,
     "metadata": {},
     "output_type": "execute_result"
    }
   ],
   "source": [
    "vo.trans_est_ref"
   ]
  },
  {
   "cell_type": "code",
   "execution_count": 22,
   "metadata": {},
   "outputs": [
    {
     "data": {
      "text/plain": [
       "array([[1.18445052],\n",
       "       [0.05603373],\n",
       "       [1.53442075]])"
      ]
     },
     "execution_count": 22,
     "metadata": {},
     "output_type": "execute_result"
    }
   ],
   "source": [
    "vo.cur_t"
   ]
  },
  {
   "cell_type": "code",
   "execution_count": 23,
   "metadata": {},
   "outputs": [
    {
     "data": {
      "text/plain": [
       "array([[ 9.98023904e-01, -3.12445700e-04,  6.28346193e-02],\n",
       "       [ 9.73925527e-04,  9.99944431e-01, -1.04969621e-02],\n",
       "       [-6.28278480e-02,  1.05374154e-02,  9.97968749e-01]])"
      ]
     },
     "execution_count": 23,
     "metadata": {},
     "output_type": "execute_result"
    }
   ],
   "source": [
    "vo.cur_R"
   ]
  },
  {
   "cell_type": "code",
   "execution_count": 27,
   "metadata": {},
   "outputs": [
    {
     "name": "stdout",
     "output_type": "stream",
     "text": [
      "processing second frame\n",
      "# matched points:  50 , # inliers:  15\n"
     ]
    }
   ],
   "source": [
    "vo.trackImage(image_3)"
   ]
  },
  {
   "cell_type": "code",
   "execution_count": 28,
   "metadata": {},
   "outputs": [
    {
     "data": {
      "text/plain": [
       "True"
      ]
     },
     "execution_count": 28,
     "metadata": {},
     "output_type": "execute_result"
    }
   ],
   "source": [
    "img2 = vo.draw_img\n",
    "cv2.imwrite(\"Images/res/image2.jpg\", img2)"
   ]
  },
  {
   "cell_type": "code",
   "execution_count": 29,
   "metadata": {},
   "outputs": [
    {
     "data": {
      "text/plain": [
       "[[array([0.]), array([0.]), array([0.])],\n",
       " [array([0.40163581]), array([0.07731623]), array([0.91252993])],\n",
       " [array([0.95375506]), array([-0.00526277]), array([1.74219555])]]"
      ]
     },
     "execution_count": 29,
     "metadata": {},
     "output_type": "execute_result"
    }
   ],
   "source": [
    "vo.trans_est_ref"
   ]
  },
  {
   "cell_type": "code",
   "execution_count": 30,
   "metadata": {},
   "outputs": [
    {
     "data": {
      "text/plain": [
       "array([[ 1.73656977],\n",
       "       [-0.02654527],\n",
       "       [ 2.36408636]])"
      ]
     },
     "execution_count": 30,
     "metadata": {},
     "output_type": "execute_result"
    }
   ],
   "source": [
    "vo.cur_t"
   ]
  },
  {
   "cell_type": "code",
   "execution_count": 31,
   "metadata": {},
   "outputs": [
    {
     "data": {
      "text/plain": [
       "array([[ 0.99550813,  0.01321437,  0.09374933],\n",
       "       [-0.01373435,  0.99989366,  0.00490345],\n",
       "       [-0.09367457, -0.00616901,  0.99558376]])"
      ]
     },
     "execution_count": 31,
     "metadata": {},
     "output_type": "execute_result"
    }
   ],
   "source": [
    "vo.cur_R"
   ]
  },
  {
   "cell_type": "code",
   "execution_count": 34,
   "metadata": {},
   "outputs": [
    {
     "data": {
      "text/plain": [
       "True"
      ]
     },
     "execution_count": 34,
     "metadata": {},
     "output_type": "execute_result"
    }
   ],
   "source": [
    "img3 = vo.draw_img\n",
    "cv2.imwrite(\"Images/res/image3.jpg\", img3)"
   ]
  },
  {
   "cell_type": "code",
   "execution_count": null,
   "metadata": {},
   "outputs": [],
   "source": []
  }
 ],
 "metadata": {
  "kernelspec": {
   "display_name": "Python 3",
   "language": "python",
   "name": "python3"
  },
  "language_info": {
   "codemirror_mode": {
    "name": "ipython",
    "version": 3
   },
   "file_extension": ".py",
   "mimetype": "text/x-python",
   "name": "python",
   "nbconvert_exporter": "python",
   "pygments_lexer": "ipython3",
   "version": "3.7.3"
  }
 },
 "nbformat": 4,
 "nbformat_minor": 2
}
