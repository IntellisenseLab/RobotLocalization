{
 "cells": [
  {
   "cell_type": "code",
   "execution_count": 1,
   "metadata": {},
   "outputs": [],
   "source": [
    "import numpy as np\n",
    "import cv2\n",
    "\n",
    "from feature_tracker import FeatureTrackerTypes, FeatureTracker, FeatureTrackingResult\n",
    "from feature_orb2D import OrbFeature2D\n",
    "from feature_matcher import feature_matcher_factory, FeatureMatcherTypes\n",
    "from parameters import Parameters \n",
    "import random\n",
    "import tracemalloc\n",
    "import linecache\n",
    "from visual_odometry import ImageRecievedState, VisualOdometry\n",
    "from camera import KinectCamera\n",
    "from utils import compute_euler_angle"
   ]
  },
  {
   "cell_type": "code",
   "execution_count": 2,
   "metadata": {},
   "outputs": [],
   "source": [
    "MinNumFeatureDefault = Parameters.MinNumFeatureDefault\n",
    "RatioTest = Parameters.FeatureMatchRatioTest"
   ]
  },
  {
   "cell_type": "code",
   "execution_count": 3,
   "metadata": {},
   "outputs": [],
   "source": [
    "image_ref = cv2.imread(\"Images/image1.jpg\")\n",
    "image_cur = cv2.imread(\"Images/image2.jpg\")"
   ]
  },
  {
   "cell_type": "code",
   "execution_count": 4,
   "metadata": {},
   "outputs": [],
   "source": [
    "width  = 640\n",
    "height = 480\n",
    "fx     = 554.254691191187\n",
    "fy     = 554.254691191187\n",
    "cx     = 320.5\n",
    "cy     = 240.5\n",
    "D      = [0.0, 0.0, 0.0, 0.0, 0.0] "
   ]
  },
  {
   "cell_type": "code",
   "execution_count": 5,
   "metadata": {},
   "outputs": [],
   "source": [
    "cam = KinectCamera(width, height, fx, fy, cx, cy, D)"
   ]
  },
  {
   "cell_type": "code",
   "execution_count": 6,
   "metadata": {},
   "outputs": [
    {
     "name": "stdout",
     "output_type": "stream",
     "text": [
      "Using Orb Feature 2D\n"
     ]
    }
   ],
   "source": [
    "feature_tracker = FeatureTracker(num_features=MinNumFeatureDefault, \n",
    "                       num_levels = 8,  \n",
    "                       scale_factor = 1.2,   \n",
    "                       match_ratio_test = RatioTest, \n",
    "                       tracker_type = FeatureTrackerTypes.DES_BF)"
   ]
  },
  {
   "cell_type": "code",
   "execution_count": 7,
   "metadata": {},
   "outputs": [],
   "source": [
    "vo = VisualOdometry(cam, feature_tracker)"
   ]
  },
  {
   "cell_type": "code",
   "execution_count": 8,
   "metadata": {},
   "outputs": [
    {
     "data": {
      "text/plain": [
       "<camera.KinectCamera at 0x2538ddc52b0>"
      ]
     },
     "execution_count": 8,
     "metadata": {},
     "output_type": "execute_result"
    }
   ],
   "source": [
    "vo.cam"
   ]
  },
  {
   "cell_type": "code",
   "execution_count": 9,
   "metadata": {},
   "outputs": [
    {
     "name": "stdout",
     "output_type": "stream",
     "text": [
      "processing first frame\n"
     ]
    }
   ],
   "source": [
    "vo.trackImage(image_ref)"
   ]
  },
  {
   "cell_type": "code",
   "execution_count": 10,
   "metadata": {},
   "outputs": [],
   "source": [
    "img1 = vo.draw_img"
   ]
  },
  {
   "cell_type": "code",
   "execution_count": 12,
   "metadata": {},
   "outputs": [
    {
     "data": {
      "text/plain": [
       "True"
      ]
     },
     "execution_count": 12,
     "metadata": {},
     "output_type": "execute_result"
    }
   ],
   "source": [
    "cv2.imwrite(\"Images/reference.jpg\", img1)"
   ]
  },
  {
   "cell_type": "code",
   "execution_count": 13,
   "metadata": {},
   "outputs": [
    {
     "name": "stdout",
     "output_type": "stream",
     "text": [
      "processing second frame\n",
      "# matched points:  216 , # inliers:  157\n"
     ]
    }
   ],
   "source": [
    "vo.trackImage(image_cur)"
   ]
  },
  {
   "cell_type": "code",
   "execution_count": 14,
   "metadata": {},
   "outputs": [],
   "source": [
    "img2 = vo.draw_img"
   ]
  },
  {
   "cell_type": "code",
   "execution_count": 13,
   "metadata": {},
   "outputs": [
    {
     "data": {
      "text/plain": [
       "(480, 640, 3)"
      ]
     },
     "execution_count": 13,
     "metadata": {},
     "output_type": "execute_result"
    }
   ],
   "source": [
    "img.shape"
   ]
  },
  {
   "cell_type": "code",
   "execution_count": 15,
   "metadata": {},
   "outputs": [
    {
     "data": {
      "text/plain": [
       "True"
      ]
     },
     "execution_count": 15,
     "metadata": {},
     "output_type": "execute_result"
    }
   ],
   "source": [
    "cv2.imwrite(\"Images/current.jpg\", img2)"
   ]
  },
  {
   "cell_type": "code",
   "execution_count": null,
   "metadata": {},
   "outputs": [],
   "source": []
  }
 ],
 "metadata": {
  "kernelspec": {
   "display_name": "Python 3",
   "language": "python",
   "name": "python3"
  },
  "language_info": {
   "codemirror_mode": {
    "name": "ipython",
    "version": 3
   },
   "file_extension": ".py",
   "mimetype": "text/x-python",
   "name": "python",
   "nbconvert_exporter": "python",
   "pygments_lexer": "ipython3",
   "version": "3.7.3"
  }
 },
 "nbformat": 4,
 "nbformat_minor": 2
}
